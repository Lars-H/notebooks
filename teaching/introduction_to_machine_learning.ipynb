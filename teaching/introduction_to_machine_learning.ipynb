{
 "cells": [
  {
   "cell_type": "markdown",
   "metadata": {},
   "source": [
    "# Introduction to Machine Learning Exercise: Decision Trees and K-Means\n",
    "\n",
    "In this notebook, you will learn about supervised and unsupervised machine learning models. In this version, you will learn about Decision Tress and K-Means as presented in the Lecture.\n",
    "\n",
    "- You will be guided through the note step by step. \n",
    "- You can execute the cells in a sequential order to follow the storyline.\n",
    "- We indicated **\"Interactive Task\"** throughout the notebook. These are parts, were you might need to do small adjustements to the code to see how the results change.\n",
    "- However, feel free to also adjust and play around with other parts as you go along.\n",
    "\n",
    "Let us start by importing all the libraries that we will need..."
   ]
  },
  {
   "cell_type": "code",
   "execution_count": 2,
   "metadata": {},
   "outputs": [],
   "source": [
    "# Imports\n",
    "import numpy as np\n",
    "import pandas as pd\n",
    "import matplotlib.pyplot as plt\n",
    "import seaborn as sns\n",
    "%matplotlib inline \n",
    "from sklearn.model_selection import train_test_split\n",
    "from sklearn.tree import DecisionTreeClassifier\n",
    "from sklearn.cluster import KMeans\n",
    "from sklearn.metrics import pairwise_distances_argmin\n",
    "from sklearn.naive_bayes import GaussianNB\n",
    "from sklearn.metrics import precision_score\n",
    "from sklearn.metrics import recall_score\n",
    "from sklearn.metrics import f1_score\n",
    "from sklearn import tree\n",
    "import graphviz "
   ]
  },
  {
   "cell_type": "markdown",
   "metadata": {},
   "source": [
    "# Decision Trees\n",
    "\n",
    "First, we learn how to apply decision tress while working on the \"Titanic Challenge\". More specifically, we use machine learning to create a model that predicts which passengers survived the Titanic shipwreck.\n",
    "\n",
    "The Titanic Challenge is a widely used common machine learning beginner challenge. It is also the getting started competition at [Kaggle](https://www.kaggle.com) - the online community of data scientists and machine learners. So, after working through this notebook, you can quickly work on your own, improved solution, join the Kaggle competition, and compare your results with the community - give it a try!\n",
    "\n",
    "We are going to use the python library `scikit-learn`. Scikit-learn is built on NumPy, SciPy, and matplotlib and provides a range of supervised and unsupervised learning algorithms for classification, regression, and clustering. For more information about scikit-learn, click [here](https://scikit-learn.org/stable/). "
   ]
  },
  {
   "cell_type": "markdown",
   "metadata": {},
   "source": [
    "## Data\n",
    "\n",
    "The file `titanic_data.csv` contains data from Titanic passengers with the following columns:\n",
    "\n",
    "- PassengerId: unique identification number for each passenger\n",
    "- Survived: 0 = No, 1 = Yes\n",
    "- Pclass: the passenger class, 1 = 1st (upperclass), 2 = 2nd (middle class), 3 = 3rd (lower class)\n",
    "- Name: full name of the passenger\n",
    "- Sex: male or female\n",
    "- Age: age of passenger in years, e.g. 22\n",
    "- SibSp: number of siblings/ spouses aboard the Titanic\n",
    "- Parch: number of parents/ children aboard the Titanic\n",
    "- Ticket: ticket number\n",
    "- Fare: passenger fare  \n",
    "- Cabin: cabin number\n",
    "- Embarked: port of embarkation, C = Cherbourg, Q = Queenstown, S = Southampton\n",
    "\n",
    "Let's import the data and have a closer look at it:"
   ]
  },
  {
   "cell_type": "code",
   "execution_count": 3,
   "metadata": {},
   "outputs": [
    {
     "name": "stdout",
     "output_type": "stream",
     "text": [
      "<class 'pandas.core.frame.DataFrame'>\n",
      "RangeIndex: 891 entries, 0 to 890\n",
      "Data columns (total 12 columns):\n",
      " #   Column       Non-Null Count  Dtype  \n",
      "---  ------       --------------  -----  \n",
      " 0   PassengerId  891 non-null    int64  \n",
      " 1   Survived     891 non-null    int64  \n",
      " 2   Pclass       891 non-null    int64  \n",
      " 3   Name         891 non-null    object \n",
      " 4   Sex          891 non-null    object \n",
      " 5   Age          714 non-null    float64\n",
      " 6   SibSp        891 non-null    int64  \n",
      " 7   Parch        891 non-null    int64  \n",
      " 8   Ticket       891 non-null    object \n",
      " 9   Fare         891 non-null    float64\n",
      " 10  Cabin        204 non-null    object \n",
      " 11  Embarked     889 non-null    object \n",
      "dtypes: float64(2), int64(5), object(5)\n",
      "memory usage: 83.7+ KB\n"
     ]
    }
   ],
   "source": [
    "data_url = \"http://people.aifb.kit.edu/zg2916/teaching/hector2020/titanic_data.csv\"\n",
    "titanic_data = pd.read_csv(data_url)\n",
    "titanic_data.info()"
   ]
  },
  {
   "cell_type": "code",
   "execution_count": 4,
   "metadata": {},
   "outputs": [
    {
     "data": {
      "text/html": [
       "<div>\n",
       "<style scoped>\n",
       "    .dataframe tbody tr th:only-of-type {\n",
       "        vertical-align: middle;\n",
       "    }\n",
       "\n",
       "    .dataframe tbody tr th {\n",
       "        vertical-align: top;\n",
       "    }\n",
       "\n",
       "    .dataframe thead th {\n",
       "        text-align: right;\n",
       "    }\n",
       "</style>\n",
       "<table border=\"1\" class=\"dataframe\">\n",
       "  <thead>\n",
       "    <tr style=\"text-align: right;\">\n",
       "      <th></th>\n",
       "      <th>PassengerId</th>\n",
       "      <th>Survived</th>\n",
       "      <th>Pclass</th>\n",
       "      <th>Name</th>\n",
       "      <th>Sex</th>\n",
       "      <th>Age</th>\n",
       "      <th>SibSp</th>\n",
       "      <th>Parch</th>\n",
       "      <th>Ticket</th>\n",
       "      <th>Fare</th>\n",
       "      <th>Cabin</th>\n",
       "      <th>Embarked</th>\n",
       "    </tr>\n",
       "  </thead>\n",
       "  <tbody>\n",
       "    <tr>\n",
       "      <th>0</th>\n",
       "      <td>1</td>\n",
       "      <td>0</td>\n",
       "      <td>3</td>\n",
       "      <td>Braund, Mr. Owen Harris</td>\n",
       "      <td>male</td>\n",
       "      <td>22.0</td>\n",
       "      <td>1</td>\n",
       "      <td>0</td>\n",
       "      <td>A/5 21171</td>\n",
       "      <td>7.2500</td>\n",
       "      <td>NaN</td>\n",
       "      <td>S</td>\n",
       "    </tr>\n",
       "    <tr>\n",
       "      <th>1</th>\n",
       "      <td>2</td>\n",
       "      <td>1</td>\n",
       "      <td>1</td>\n",
       "      <td>Cumings, Mrs. John Bradley (Florence Briggs Th...</td>\n",
       "      <td>female</td>\n",
       "      <td>38.0</td>\n",
       "      <td>1</td>\n",
       "      <td>0</td>\n",
       "      <td>PC 17599</td>\n",
       "      <td>71.2833</td>\n",
       "      <td>C85</td>\n",
       "      <td>C</td>\n",
       "    </tr>\n",
       "    <tr>\n",
       "      <th>2</th>\n",
       "      <td>3</td>\n",
       "      <td>1</td>\n",
       "      <td>3</td>\n",
       "      <td>Heikkinen, Miss. Laina</td>\n",
       "      <td>female</td>\n",
       "      <td>26.0</td>\n",
       "      <td>0</td>\n",
       "      <td>0</td>\n",
       "      <td>STON/O2. 3101282</td>\n",
       "      <td>7.9250</td>\n",
       "      <td>NaN</td>\n",
       "      <td>S</td>\n",
       "    </tr>\n",
       "    <tr>\n",
       "      <th>3</th>\n",
       "      <td>4</td>\n",
       "      <td>1</td>\n",
       "      <td>1</td>\n",
       "      <td>Futrelle, Mrs. Jacques Heath (Lily May Peel)</td>\n",
       "      <td>female</td>\n",
       "      <td>35.0</td>\n",
       "      <td>1</td>\n",
       "      <td>0</td>\n",
       "      <td>113803</td>\n",
       "      <td>53.1000</td>\n",
       "      <td>C123</td>\n",
       "      <td>S</td>\n",
       "    </tr>\n",
       "    <tr>\n",
       "      <th>4</th>\n",
       "      <td>5</td>\n",
       "      <td>0</td>\n",
       "      <td>3</td>\n",
       "      <td>Allen, Mr. William Henry</td>\n",
       "      <td>male</td>\n",
       "      <td>35.0</td>\n",
       "      <td>0</td>\n",
       "      <td>0</td>\n",
       "      <td>373450</td>\n",
       "      <td>8.0500</td>\n",
       "      <td>NaN</td>\n",
       "      <td>S</td>\n",
       "    </tr>\n",
       "    <tr>\n",
       "      <th>5</th>\n",
       "      <td>6</td>\n",
       "      <td>0</td>\n",
       "      <td>3</td>\n",
       "      <td>Moran, Mr. James</td>\n",
       "      <td>male</td>\n",
       "      <td>NaN</td>\n",
       "      <td>0</td>\n",
       "      <td>0</td>\n",
       "      <td>330877</td>\n",
       "      <td>8.4583</td>\n",
       "      <td>NaN</td>\n",
       "      <td>Q</td>\n",
       "    </tr>\n",
       "    <tr>\n",
       "      <th>6</th>\n",
       "      <td>7</td>\n",
       "      <td>0</td>\n",
       "      <td>1</td>\n",
       "      <td>McCarthy, Mr. Timothy J</td>\n",
       "      <td>male</td>\n",
       "      <td>54.0</td>\n",
       "      <td>0</td>\n",
       "      <td>0</td>\n",
       "      <td>17463</td>\n",
       "      <td>51.8625</td>\n",
       "      <td>E46</td>\n",
       "      <td>S</td>\n",
       "    </tr>\n",
       "    <tr>\n",
       "      <th>7</th>\n",
       "      <td>8</td>\n",
       "      <td>0</td>\n",
       "      <td>3</td>\n",
       "      <td>Palsson, Master. Gosta Leonard</td>\n",
       "      <td>male</td>\n",
       "      <td>2.0</td>\n",
       "      <td>3</td>\n",
       "      <td>1</td>\n",
       "      <td>349909</td>\n",
       "      <td>21.0750</td>\n",
       "      <td>NaN</td>\n",
       "      <td>S</td>\n",
       "    </tr>\n",
       "    <tr>\n",
       "      <th>8</th>\n",
       "      <td>9</td>\n",
       "      <td>1</td>\n",
       "      <td>3</td>\n",
       "      <td>Johnson, Mrs. Oscar W (Elisabeth Vilhelmina Berg)</td>\n",
       "      <td>female</td>\n",
       "      <td>27.0</td>\n",
       "      <td>0</td>\n",
       "      <td>2</td>\n",
       "      <td>347742</td>\n",
       "      <td>11.1333</td>\n",
       "      <td>NaN</td>\n",
       "      <td>S</td>\n",
       "    </tr>\n",
       "    <tr>\n",
       "      <th>9</th>\n",
       "      <td>10</td>\n",
       "      <td>1</td>\n",
       "      <td>2</td>\n",
       "      <td>Nasser, Mrs. Nicholas (Adele Achem)</td>\n",
       "      <td>female</td>\n",
       "      <td>14.0</td>\n",
       "      <td>1</td>\n",
       "      <td>0</td>\n",
       "      <td>237736</td>\n",
       "      <td>30.0708</td>\n",
       "      <td>NaN</td>\n",
       "      <td>C</td>\n",
       "    </tr>\n",
       "  </tbody>\n",
       "</table>\n",
       "</div>"
      ],
      "text/plain": [
       "   PassengerId  Survived  Pclass  \\\n",
       "0            1         0       3   \n",
       "1            2         1       1   \n",
       "2            3         1       3   \n",
       "3            4         1       1   \n",
       "4            5         0       3   \n",
       "5            6         0       3   \n",
       "6            7         0       1   \n",
       "7            8         0       3   \n",
       "8            9         1       3   \n",
       "9           10         1       2   \n",
       "\n",
       "                                                Name     Sex   Age  SibSp  \\\n",
       "0                            Braund, Mr. Owen Harris    male  22.0      1   \n",
       "1  Cumings, Mrs. John Bradley (Florence Briggs Th...  female  38.0      1   \n",
       "2                             Heikkinen, Miss. Laina  female  26.0      0   \n",
       "3       Futrelle, Mrs. Jacques Heath (Lily May Peel)  female  35.0      1   \n",
       "4                           Allen, Mr. William Henry    male  35.0      0   \n",
       "5                                   Moran, Mr. James    male   NaN      0   \n",
       "6                            McCarthy, Mr. Timothy J    male  54.0      0   \n",
       "7                     Palsson, Master. Gosta Leonard    male   2.0      3   \n",
       "8  Johnson, Mrs. Oscar W (Elisabeth Vilhelmina Berg)  female  27.0      0   \n",
       "9                Nasser, Mrs. Nicholas (Adele Achem)  female  14.0      1   \n",
       "\n",
       "   Parch            Ticket     Fare Cabin Embarked  \n",
       "0      0         A/5 21171   7.2500   NaN        S  \n",
       "1      0          PC 17599  71.2833   C85        C  \n",
       "2      0  STON/O2. 3101282   7.9250   NaN        S  \n",
       "3      0            113803  53.1000  C123        S  \n",
       "4      0            373450   8.0500   NaN        S  \n",
       "5      0            330877   8.4583   NaN        Q  \n",
       "6      0             17463  51.8625   E46        S  \n",
       "7      1            349909  21.0750   NaN        S  \n",
       "8      2            347742  11.1333   NaN        S  \n",
       "9      0            237736  30.0708   NaN        C  "
      ]
     },
     "execution_count": 4,
     "metadata": {},
     "output_type": "execute_result"
    }
   ],
   "source": [
    "titanic_data.head(10)"
   ]
  },
  {
   "cell_type": "markdown",
   "metadata": {},
   "source": [
    "It is always essential to have a closer look at the data first. Here are some of the questions you may want to look at more precisely. \n",
    "- Are the features numeric or categorical?\n",
    "- Which features may influence the prediction, and which not?\n",
    "- Which features have to be proceeded? \n",
    "- Do we have missing entries? (NaN)\n",
    "    \n",
    "It is also a good idea to plot some of the features to generate a good understanding of the data and decide for further processing."
   ]
  },
  {
   "cell_type": "code",
   "execution_count": 5,
   "metadata": {},
   "outputs": [
    {
     "data": {
      "text/plain": [
       "<matplotlib.axes._subplots.AxesSubplot at 0x122beb898>"
      ]
     },
     "execution_count": 5,
     "metadata": {},
     "output_type": "execute_result"
    },
    {
     "data": {
      "image/png": "[encoded data removed]",
      "text/plain": [
       "<Figure size 432x288 with 1 Axes>"
      ]
     },
     "metadata": {},
     "output_type": "display_data"
    }
   ],
   "source": [
    "# Plot Class - Survived\n",
    "sns.barplot(x='Pclass', y='Survived', data=titanic_data)"
   ]
  },
  {
   "cell_type": "code",
   "execution_count": 6,
   "metadata": {},
   "outputs": [
    {
     "data": {
      "text/plain": [
       "<matplotlib.axes._subplots.AxesSubplot at 0x12578f710>"
      ]
     },
     "execution_count": 6,
     "metadata": {},
     "output_type": "execute_result"
    },
    {
     "data": {
      "image/png": "[encoded data removed]",
      "text/plain": [
       "<Figure size 432x288 with 1 Axes>"
      ]
     },
     "metadata": {},
     "output_type": "display_data"
    }
   ],
   "source": [
    "# Plot Fare Distribution\n",
    "sns.distplot(titanic_data['Fare'])"
   ]
  },
  {
   "cell_type": "markdown",
   "metadata": {},
   "source": [
    "In the graph above we can see that class influences the chance of survival."
   ]
  },
  {
   "cell_type": "code",
   "execution_count": 7,
   "metadata": {},
   "outputs": [
    {
     "data": {
      "text/plain": [
       "<matplotlib.axes._subplots.AxesSubplot at 0x127893c18>"
      ]
     },
     "execution_count": 7,
     "metadata": {},
     "output_type": "execute_result"
    },
    {
     "data": {
      "image/png": "[encoded data removed]",
      "text/plain": [
       "<Figure size 432x288 with 1 Axes>"
      ]
     },
     "metadata": {},
     "output_type": "display_data"
    }
   ],
   "source": [
    "# Plot Sex - Survived\n",
    "sns.barplot(x='Sex', y='Survived', data=titanic_data)"
   ]
  },
  {
   "cell_type": "markdown",
   "metadata": {},
   "source": [
    "Also, gender impacts the chance of survival.\n",
    "\n",
    "So the column `Survived` is our prediction target. For our first try, let's focus on the features `Pclass`, `Sex`, `Age`, `Fare` and `Embarked`. "
   ]
  },
  {
   "cell_type": "markdown",
   "metadata": {},
   "source": [
    "## Data Preprocessing\n",
    "\n",
    "First, we have to drop the features we don't want to take into consideration for the prediction.\n",
    "Here, we assume the following columns to have no predictive power:\n",
    "- PassengerId\n",
    "- Name\n",
    "- SibSp (Sibling or Spouse Aboad)\n",
    "- Parch (Number of parents/siblings aboard)\n",
    "- Cabin\n",
    "- Ticket (ID)"
   ]
  },
  {
   "cell_type": "code",
   "execution_count": 8,
   "metadata": {},
   "outputs": [
    {
     "name": "stdout",
     "output_type": "stream",
     "text": [
      "<class 'pandas.core.frame.DataFrame'>\n",
      "RangeIndex: 891 entries, 0 to 890\n",
      "Data columns (total 6 columns):\n",
      " #   Column    Non-Null Count  Dtype  \n",
      "---  ------    --------------  -----  \n",
      " 0   Survived  891 non-null    int64  \n",
      " 1   Pclass    891 non-null    int64  \n",
      " 2   Sex       891 non-null    object \n",
      " 3   Age       714 non-null    float64\n",
      " 4   Fare      891 non-null    float64\n",
      " 5   Embarked  889 non-null    object \n",
      "dtypes: float64(2), int64(2), object(2)\n",
      "memory usage: 41.9+ KB\n"
     ]
    }
   ],
   "source": [
    "# Remove the columns from the dataframe\n",
    "data = titanic_data.drop(['PassengerId', 'Name', 'SibSp', 'Parch', 'Cabin', 'Ticket'], axis=1)\n",
    "data.info()"
   ]
  },
  {
   "cell_type": "markdown",
   "metadata": {},
   "source": [
    "Now we want to find out about missing entries in the remaining data:"
   ]
  },
  {
   "cell_type": "code",
   "execution_count": 9,
   "metadata": {},
   "outputs": [
    {
     "data": {
      "text/html": [
       "<div>\n",
       "<style scoped>\n",
       "    .dataframe tbody tr th:only-of-type {\n",
       "        vertical-align: middle;\n",
       "    }\n",
       "\n",
       "    .dataframe tbody tr th {\n",
       "        vertical-align: top;\n",
       "    }\n",
       "\n",
       "    .dataframe thead th {\n",
       "        text-align: right;\n",
       "    }\n",
       "</style>\n",
       "<table border=\"1\" class=\"dataframe\">\n",
       "  <thead>\n",
       "    <tr style=\"text-align: right;\">\n",
       "      <th></th>\n",
       "      <th>Total</th>\n",
       "      <th>%</th>\n",
       "    </tr>\n",
       "  </thead>\n",
       "  <tbody>\n",
       "    <tr>\n",
       "      <th>Age</th>\n",
       "      <td>177</td>\n",
       "      <td>19.9</td>\n",
       "    </tr>\n",
       "    <tr>\n",
       "      <th>Embarked</th>\n",
       "      <td>2</td>\n",
       "      <td>0.2</td>\n",
       "    </tr>\n",
       "    <tr>\n",
       "      <th>Fare</th>\n",
       "      <td>0</td>\n",
       "      <td>0.0</td>\n",
       "    </tr>\n",
       "    <tr>\n",
       "      <th>Sex</th>\n",
       "      <td>0</td>\n",
       "      <td>0.0</td>\n",
       "    </tr>\n",
       "    <tr>\n",
       "      <th>Pclass</th>\n",
       "      <td>0</td>\n",
       "      <td>0.0</td>\n",
       "    </tr>\n",
       "    <tr>\n",
       "      <th>Survived</th>\n",
       "      <td>0</td>\n",
       "      <td>0.0</td>\n",
       "    </tr>\n",
       "  </tbody>\n",
       "</table>\n",
       "</div>"
      ],
      "text/plain": [
       "          Total     %\n",
       "Age         177  19.9\n",
       "Embarked      2   0.2\n",
       "Fare          0   0.0\n",
       "Sex           0   0.0\n",
       "Pclass        0   0.0\n",
       "Survived      0   0.0"
      ]
     },
     "execution_count": 9,
     "metadata": {},
     "output_type": "execute_result"
    }
   ],
   "source": [
    "total = data.isnull().sum().sort_values(ascending=False)\n",
    "percent_1 = data.isnull().sum()/data.isnull().count()*100\n",
    "percent_2 = (round(percent_1, 1)).sort_values(ascending=False)\n",
    "missing_data = pd.concat([total, percent_2], axis=1, keys=['Total', '%'])\n",
    "missing_data"
   ]
  },
  {
   "cell_type": "markdown",
   "metadata": {},
   "source": [
    "As you can see, Age is missing 177 entries, and Embarked is missing 2 entries. We are going to fill the 2 missing entries of Embarked with the most common one and the 177 entires of Age with the average age."
   ]
  },
  {
   "cell_type": "code",
   "execution_count": 10,
   "metadata": {},
   "outputs": [
    {
     "data": {
      "text/plain": [
       "count     889\n",
       "unique      3\n",
       "top         S\n",
       "freq      644\n",
       "Name: Embarked, dtype: object"
      ]
     },
     "execution_count": 10,
     "metadata": {},
     "output_type": "execute_result"
    }
   ],
   "source": [
    "# To find out the most common entry:\n",
    "data['Embarked'].describe()"
   ]
  },
  {
   "cell_type": "code",
   "execution_count": 11,
   "metadata": {},
   "outputs": [],
   "source": [
    "# Fill missing values of Embarked with the most common entry\n",
    "common_value = 'S'\n",
    "data['Embarked'] = data['Embarked'].fillna(common_value)"
   ]
  },
  {
   "cell_type": "code",
   "execution_count": 13,
   "metadata": {},
   "outputs": [],
   "source": [
    "# Fill missing values of Age with the mean Age\n",
    "\n",
    "# Compute the mean age\n",
    "mean = data['Age'].mean()\n",
    "\n",
    "# Fill Na values\n",
    "data['Age'] = data['Age'].fillna(mean)"
   ]
  },
  {
   "cell_type": "markdown",
   "metadata": {},
   "source": [
    "### Interactive Task\n",
    "\n",
    "- Can you think about other ways to handle missing values?"
   ]
  },
  {
   "cell_type": "markdown",
   "metadata": {},
   "source": [
    "As we saw above in data.info(), we have different datatypes. We need to transform the categorical values of Sex and Embarked into numerical ones so that machine learning algorithms can process them. Furthermore, the features have different ranges that we need to convert into roughly the same scale. In our case, we need to categorize the feature Age."
   ]
  },
  {
   "cell_type": "code",
   "execution_count": 14,
   "metadata": {},
   "outputs": [],
   "source": [
    "#Sex\n",
    "genders = {\"male\": 0, \"female\": 1}\n",
    "data['Sex'] = data['Sex'].map(genders)"
   ]
  },
  {
   "cell_type": "code",
   "execution_count": 15,
   "metadata": {},
   "outputs": [],
   "source": [
    "#Embarked\n",
    "ports = {\"S\": 0, \"C\": 1, \"Q\": 2}\n",
    "data['Embarked'] = data['Embarked'].map(ports)"
   ]
  },
  {
   "cell_type": "markdown",
   "metadata": {},
   "source": [
    "Now we categorize Age and convert it from float to int. For the categorization, it is crucial to distribute the values, and not have 90 % of the data in one group."
   ]
  },
  {
   "cell_type": "code",
   "execution_count": 16,
   "metadata": {},
   "outputs": [],
   "source": [
    "# Age\n",
    "data['Age'] = data['Age'].astype(int)\n",
    "data.loc[ data['Age'] <= 11, 'Age'] = 0\n",
    "data.loc[(data['Age'] > 11) & (data['Age'] <= 18), 'Age'] = 1\n",
    "data.loc[(data['Age'] > 18) & (data['Age'] <= 22), 'Age'] = 2\n",
    "data.loc[(data['Age'] > 22) & (data['Age'] <= 27), 'Age'] = 3\n",
    "data.loc[(data['Age'] > 27) & (data['Age'] <= 33), 'Age'] = 4\n",
    "data.loc[(data['Age'] > 33) & (data['Age'] <= 40), 'Age'] = 5\n",
    "data.loc[(data['Age'] > 40) & (data['Age'] <= 66), 'Age'] = 6\n",
    "data.loc[ data['Age'] > 66, 'Age'] = 7"
   ]
  },
  {
   "cell_type": "code",
   "execution_count": 17,
   "metadata": {},
   "outputs": [
    {
     "data": {
      "text/plain": [
       "4    303\n",
       "6    141\n",
       "3    106\n",
       "5    103\n",
       "2     92\n",
       "1     71\n",
       "0     68\n",
       "7      7\n",
       "Name: Age, dtype: int64"
      ]
     },
     "execution_count": 17,
     "metadata": {},
     "output_type": "execute_result"
    }
   ],
   "source": [
    "# Let's check the distribution\n",
    "data['Age'].value_counts()"
   ]
  },
  {
   "cell_type": "markdown",
   "metadata": {},
   "source": [
    "Finally, we have a last look at our data before getting started with ML:"
   ]
  },
  {
   "cell_type": "code",
   "execution_count": 18,
   "metadata": {},
   "outputs": [
    {
     "data": {
      "text/html": [
       "<div>\n",
       "<style scoped>\n",
       "    .dataframe tbody tr th:only-of-type {\n",
       "        vertical-align: middle;\n",
       "    }\n",
       "\n",
       "    .dataframe tbody tr th {\n",
       "        vertical-align: top;\n",
       "    }\n",
       "\n",
       "    .dataframe thead th {\n",
       "        text-align: right;\n",
       "    }\n",
       "</style>\n",
       "<table border=\"1\" class=\"dataframe\">\n",
       "  <thead>\n",
       "    <tr style=\"text-align: right;\">\n",
       "      <th></th>\n",
       "      <th>Survived</th>\n",
       "      <th>Pclass</th>\n",
       "      <th>Sex</th>\n",
       "      <th>Age</th>\n",
       "      <th>Fare</th>\n",
       "      <th>Embarked</th>\n",
       "    </tr>\n",
       "  </thead>\n",
       "  <tbody>\n",
       "    <tr>\n",
       "      <th>0</th>\n",
       "      <td>0</td>\n",
       "      <td>3</td>\n",
       "      <td>0</td>\n",
       "      <td>2</td>\n",
       "      <td>7.2500</td>\n",
       "      <td>0</td>\n",
       "    </tr>\n",
       "    <tr>\n",
       "      <th>1</th>\n",
       "      <td>1</td>\n",
       "      <td>1</td>\n",
       "      <td>1</td>\n",
       "      <td>5</td>\n",
       "      <td>71.2833</td>\n",
       "      <td>1</td>\n",
       "    </tr>\n",
       "    <tr>\n",
       "      <th>2</th>\n",
       "      <td>1</td>\n",
       "      <td>3</td>\n",
       "      <td>1</td>\n",
       "      <td>3</td>\n",
       "      <td>7.9250</td>\n",
       "      <td>0</td>\n",
       "    </tr>\n",
       "    <tr>\n",
       "      <th>3</th>\n",
       "      <td>1</td>\n",
       "      <td>1</td>\n",
       "      <td>1</td>\n",
       "      <td>5</td>\n",
       "      <td>53.1000</td>\n",
       "      <td>0</td>\n",
       "    </tr>\n",
       "    <tr>\n",
       "      <th>4</th>\n",
       "      <td>0</td>\n",
       "      <td>3</td>\n",
       "      <td>0</td>\n",
       "      <td>5</td>\n",
       "      <td>8.0500</td>\n",
       "      <td>0</td>\n",
       "    </tr>\n",
       "    <tr>\n",
       "      <th>5</th>\n",
       "      <td>0</td>\n",
       "      <td>3</td>\n",
       "      <td>0</td>\n",
       "      <td>4</td>\n",
       "      <td>8.4583</td>\n",
       "      <td>2</td>\n",
       "    </tr>\n",
       "    <tr>\n",
       "      <th>6</th>\n",
       "      <td>0</td>\n",
       "      <td>1</td>\n",
       "      <td>0</td>\n",
       "      <td>6</td>\n",
       "      <td>51.8625</td>\n",
       "      <td>0</td>\n",
       "    </tr>\n",
       "    <tr>\n",
       "      <th>7</th>\n",
       "      <td>0</td>\n",
       "      <td>3</td>\n",
       "      <td>0</td>\n",
       "      <td>0</td>\n",
       "      <td>21.0750</td>\n",
       "      <td>0</td>\n",
       "    </tr>\n",
       "    <tr>\n",
       "      <th>8</th>\n",
       "      <td>1</td>\n",
       "      <td>3</td>\n",
       "      <td>1</td>\n",
       "      <td>3</td>\n",
       "      <td>11.1333</td>\n",
       "      <td>0</td>\n",
       "    </tr>\n",
       "    <tr>\n",
       "      <th>9</th>\n",
       "      <td>1</td>\n",
       "      <td>2</td>\n",
       "      <td>1</td>\n",
       "      <td>1</td>\n",
       "      <td>30.0708</td>\n",
       "      <td>1</td>\n",
       "    </tr>\n",
       "  </tbody>\n",
       "</table>\n",
       "</div>"
      ],
      "text/plain": [
       "   Survived  Pclass  Sex  Age     Fare  Embarked\n",
       "0         0       3    0    2   7.2500         0\n",
       "1         1       1    1    5  71.2833         1\n",
       "2         1       3    1    3   7.9250         0\n",
       "3         1       1    1    5  53.1000         0\n",
       "4         0       3    0    5   8.0500         0\n",
       "5         0       3    0    4   8.4583         2\n",
       "6         0       1    0    6  51.8625         0\n",
       "7         0       3    0    0  21.0750         0\n",
       "8         1       3    1    3  11.1333         0\n",
       "9         1       2    1    1  30.0708         1"
      ]
     },
     "execution_count": 18,
     "metadata": {},
     "output_type": "execute_result"
    }
   ],
   "source": [
    "data.head(10)"
   ]
  },
  {
   "cell_type": "markdown",
   "metadata": {},
   "source": [
    "## Split into Train and Test\n",
    "\n",
    "Now we want to split the data into train and test data. There are many ways and methods to split the data. We will simply use a test size of 10 % of the data."
   ]
  },
  {
   "cell_type": "code",
   "execution_count": 21,
   "metadata": {},
   "outputs": [],
   "source": [
    "# We have to separate the target column first:\n",
    "X = data.drop(\"Survived\", axis=1)\n",
    "y = data[\"Survived\"]\n",
    "\n",
    "# And split the data:\n",
    "X_train, X_test, y_train, y_test = train_test_split(X, y, test_size=0.1)"
   ]
  },
  {
   "cell_type": "markdown",
   "metadata": {},
   "source": [
    "### Interactive Tasks:\n",
    "\n",
    "- Try out other split ratios (`test_size` parameter) and see how the results of your model change. Let us start with a value of `0.1` and change it once we have investigated the results."
   ]
  },
  {
   "cell_type": "code",
   "execution_count": 22,
   "metadata": {},
   "outputs": [],
   "source": [
    "# Create the classifier object with a depth of \"max_depth\"\n",
    "decision_tree = DecisionTreeClassifier(max_depth=3) \n",
    "\n",
    "# See here for reference: https://scikit-learn.org/stable/modules/generated/sklearn.tree.DecisionTreeClassifier.html \n",
    "# There you can find also additional parameters\n",
    "\n",
    "# Train the model using the training data\n",
    "decision_tree.fit(X_train, y_train)  \n",
    "\n",
    "# Compute the predictions for the testing data\n",
    "y_pred = decision_tree.predict(X_test)  "
   ]
  },
  {
   "cell_type": "markdown",
   "metadata": {},
   "source": [
    "## Confusion Matrix\n",
    "\n",
    "We can get a first insight in the performance of the model by looking at the confusion matrix.\n",
    "The confusion matrix combines the value for *True Positives (TP)*, *True Negatives (TN)*, *False Negatives (FN)* and *False Positives*."
   ]
  },
  {
   "cell_type": "markdown",
   "metadata": {},
   "source": [
    "Let us first define a function to compute these values based on the a given prediction."
   ]
  },
  {
   "cell_type": "code",
   "execution_count": 23,
   "metadata": {},
   "outputs": [],
   "source": [
    "# Function to compute TP, TN, FP, FN values\n",
    "def confusion_matrix(y_test, y_pred):\n",
    "    tp = 0\n",
    "    fp = 0\n",
    "    fn = 0\n",
    "    tn = 0\n",
    "\n",
    "    #the true values:\n",
    "    y_real = np.array(y_test)\n",
    "    \n",
    "    # For all predictions made\n",
    "    for i in range(len(y_pred)):\n",
    "        # True Positives\n",
    "        if y_pred[i] == 1 and  y_real[i] == 1:\n",
    "            tp += 1\n",
    "            \n",
    "        # True Negatives\n",
    "        elif y_pred[i] == 0 and  y_real[i] == 0:\n",
    "            tn += 1\n",
    "        \n",
    "        # False Positives\n",
    "        elif y_pred[i] == 1 and  y_real[i] == 0:\n",
    "            fp += 1\n",
    "            \n",
    "        # False Negative\n",
    "        elif y_pred[i] == 0 and  y_real[i] == 1:\n",
    "            fn += 1\n",
    "    return tp, fp, fn, tn"
   ]
  },
  {
   "cell_type": "markdown",
   "metadata": {},
   "source": [
    "We can now print the values for a given prediction on a test set."
   ]
  },
  {
   "cell_type": "code",
   "execution_count": 24,
   "metadata": {},
   "outputs": [
    {
     "name": "stdout",
     "output_type": "stream",
     "text": [
      "True Positives shows how many passengers correctly classified as survived: 27\n",
      "True Negatives shows how many passengers correctly classified as dead: 49\n",
      "False Negatives shows how many passengers wrongly classified as dead: 8\n",
      "False Positives shows how many passengers wrongly classified as survived: 6\n"
     ]
    }
   ],
   "source": [
    "tp, fp, fn, tn = confusion_matrix(y_test, y_pred)\n",
    "print(f\"True Positives shows how many passengers correctly classified as survived: {tp}\")\n",
    "print(f\"True Negatives shows how many passengers correctly classified as dead: {tn}\")\n",
    "print(f\"False Negatives shows how many passengers wrongly classified as dead: {fn}\")\n",
    "print(f\"False Positives shows how many passengers wrongly classified as survived: {fp}\")"
   ]
  },
  {
   "cell_type": "markdown",
   "metadata": {},
   "source": [
    "As you can see, these values are all absolute values. As a result, the predicitions for different sizes of test sets are not comparable.\n",
    "In order to get a better insight into the performance, we introduce the following metrics to get a better idea about the performance of the algorithm."
   ]
  },
  {
   "cell_type": "markdown",
   "metadata": {},
   "source": [
    "## Precision, Recall and F1 Score\n",
    "\n",
    "Precision, recall and F1 Score are the commonly used evaluation metrics for classification task.\n",
    "We can compute them based on the previously computed TP, TN, FN, and FP values using the following formulas:\n",
    "\n",
    "$Precsion = \\frac{TP}{(TP+FP)}$\n",
    "\n",
    "$Recall = \\frac{TP}{(TP+FN)}$\n",
    "\n",
    "$F_1 = \\frac{(2 * Precision * Recall)}{ (Precision + Recall)}$"
   ]
  },
  {
   "cell_type": "markdown",
   "metadata": {},
   "source": [
    "### Interactive Task\n",
    "\n",
    "- In the code box below, add the code to compute Precision, Recall and F1 Measure using the formulas"
   ]
  },
  {
   "cell_type": "code",
   "execution_count": 26,
   "metadata": {},
   "outputs": [
    {
     "name": "stdout",
     "output_type": "stream",
     "text": [
      "Precision: 0\n",
      "Recall: 0\n",
      "F1: 0\n"
     ]
    }
   ],
   "source": [
    "def precision(tp,tn,fp,fn):\n",
    "    precision = 0 # ADD CODE HERE \n",
    "    return precision\n",
    "\n",
    "def recall(tp,tn,fp,fn):\n",
    "    recall = 0 # ADD CODE HERE \n",
    "    return recall\n",
    "\n",
    "def f1(tp,tn,fp,fn):\n",
    "    precision = 0 # ADD CODE HERE (Hint: reuse existing functions)\n",
    "    recall = 0 # ADD CODE HERE (Hint: reuse existing functions)\n",
    "    f1 = 0 # ADD CODE HERE \n",
    "    return f1\n",
    "\n",
    "print('Precision:', round(precision(tp, fp, tn, fn),3))\n",
    "print('Recall:', round(recall(tp, fp, tn, fn), 3))\n",
    "print('F1:', round(f1(tp, fp, tn, fn), 3))"
   ]
  },
  {
   "cell_type": "markdown",
   "metadata": {},
   "source": [
    "We can also use the formulas that are provided as part of the `sklearn` library to compute those values.\n",
    "\n",
    "### Interactive Task:\n",
    "\n",
    "- Check wehther the values you compute are identical to those using the library fromulas below."
   ]
  },
  {
   "cell_type": "code",
   "execution_count": 27,
   "metadata": {},
   "outputs": [
    {
     "name": "stdout",
     "output_type": "stream",
     "text": [
      "Precision: 0.818\n",
      "Recall: 0.771\n",
      "F1: 0.794\n"
     ]
    }
   ],
   "source": [
    "precision_val = precision_score(y_test, y_pred)\n",
    "recall_val = recall_score(y_test, y_pred)\n",
    "f1_val = f1_score(y_test, y_pred)\n",
    "print('Precision:', round(precision_val,3))\n",
    "print('Recall:', round(recall_val, 3))\n",
    "print('F1:', round(f1_val, 3))"
   ]
  },
  {
   "cell_type": "markdown",
   "metadata": {},
   "source": [
    "We can now also visualize the results as bar plot."
   ]
  },
  {
   "cell_type": "code",
   "execution_count": 29,
   "metadata": {},
   "outputs": [
    {
     "data": {
      "text/plain": [
       "<matplotlib.axes._subplots.AxesSubplot at 0x1279d9a90>"
      ]
     },
     "execution_count": 29,
     "metadata": {},
     "output_type": "execute_result"
    },
    {
     "data": {
      "image/png": "[encoded data removed]",
      "text/plain": [
       "<Figure size 432x288 with 1 Axes>"
      ]
     },
     "metadata": {},
     "output_type": "display_data"
    }
   ],
   "source": [
    "sns.barplot(x=[\"precision\", \"recall\", \"F1\"], y=[precision_val, recall_val, f1_val])"
   ]
  },
  {
   "cell_type": "markdown",
   "metadata": {},
   "source": [
    "## Visualize the Decision Tree\n",
    "\n",
    "We want to get a better understanding of the decision trees and the rules that it has learned.\n",
    "In order to do so, we can visualize the decision tree to inspect its decision rules.\n",
    "\n",
    "Each node in the graph represents a decision rule. The nodes include information on:\n",
    "- The feature\n",
    "- The importance of the feature (as measured by the Gini Importance metric)\n",
    "- The number of sample to which the rule was applied\n",
    "- The values: How many sample fit into either class\n",
    "- The class which would be predicited at the current point in the tree\n",
    "\n",
    "### Interactive Tasks:\n",
    "\n",
    "- Visualize the decision tree for different depth values. To do so, go back to the cell in which the decision tree is learned and change its parameter \"max_depth\" and re-run the cell\n",
    "- Start with a small value and see how the complexity of the decision rules increase with increasing height.\n",
    "- Check in the visualization which nodes are irrelevant for the classification.\n"
   ]
  },
  {
   "cell_type": "code",
   "execution_count": 30,
   "metadata": {},
   "outputs": [
    {
     "data": {
      "image/svg+xml": [
       "<?xml version=\"1.0\" encoding=\"UTF-8\" standalone=\"no\"?>\n",
       "<!DOCTYPE svg PUBLIC \"-//W3C//DTD SVG 1.1//EN\"\n",
       " \"http://www.w3.org/Graphics/SVG/1.1/DTD/svg11.dtd\">\n",
       "<!-- Generated by graphviz version 2.40.1 (20161225.0304)\n",
       " -->\n",
       "<!-- Title: Tree Pages: 1 -->\n",
       "<svg width=\"968pt\" height=\"433pt\"\n",
       " viewBox=\"0.00 0.00 968.00 433.00\" xmlns=\"http://www.w3.org/2000/svg\" xmlns:xlink=\"http://www.w3.org/1999/xlink\">\n",
       "<g id=\"graph0\" class=\"graph\" transform=\"scale(1 1) rotate(0) translate(4 429)\">\n",
       "<title>Tree</title>\n",
       "<polygon fill=\"#ffffff\" stroke=\"transparent\" points=\"-4,4 -4,-429 964,-429 964,4 -4,4\"/>\n",
       "<!-- 0 -->\n",
       "<g id=\"node1\" class=\"node\">\n",
       "<title>0</title>\n",
       "<path fill=\"#f5cfb4\" stroke=\"#000000\" d=\"M500.5,-425C500.5,-425 424.5,-425 424.5,-425 418.5,-425 412.5,-419 412.5,-413 412.5,-413 412.5,-354 412.5,-354 412.5,-348 418.5,-342 424.5,-342 424.5,-342 500.5,-342 500.5,-342 506.5,-342 512.5,-348 512.5,-354 512.5,-354 512.5,-413 512.5,-413 512.5,-419 506.5,-425 500.5,-425\"/>\n",
       "<text text-anchor=\"start\" x=\"440\" y=\"-409.8\" font-family=\"Helvetica,sans-Serif\" font-size=\"14.00\" fill=\"#000000\">Sex ≤ 0.5</text>\n",
       "<text text-anchor=\"start\" x=\"435\" y=\"-394.8\" font-family=\"Helvetica,sans-Serif\" font-size=\"14.00\" fill=\"#000000\">gini = 0.473</text>\n",
       "<text text-anchor=\"start\" x=\"428\" y=\"-379.8\" font-family=\"Helvetica,sans-Serif\" font-size=\"14.00\" fill=\"#000000\">samples = 801</text>\n",
       "<text text-anchor=\"start\" x=\"420.5\" y=\"-364.8\" font-family=\"Helvetica,sans-Serif\" font-size=\"14.00\" fill=\"#000000\">value = [494, 307]</text>\n",
       "<text text-anchor=\"start\" x=\"424\" y=\"-349.8\" font-family=\"Helvetica,sans-Serif\" font-size=\"14.00\" fill=\"#000000\">class = Survived</text>\n",
       "</g>\n",
       "<!-- 1 -->\n",
       "<g id=\"node2\" class=\"node\">\n",
       "<title>1</title>\n",
       "<path fill=\"#eb9f69\" stroke=\"#000000\" d=\"M377.5,-306C377.5,-306 301.5,-306 301.5,-306 295.5,-306 289.5,-300 289.5,-294 289.5,-294 289.5,-235 289.5,-235 289.5,-229 295.5,-223 301.5,-223 301.5,-223 377.5,-223 377.5,-223 383.5,-223 389.5,-229 389.5,-235 389.5,-235 389.5,-294 389.5,-294 389.5,-300 383.5,-306 377.5,-306\"/>\n",
       "<text text-anchor=\"start\" x=\"310.5\" y=\"-290.8\" font-family=\"Helvetica,sans-Serif\" font-size=\"14.00\" fill=\"#000000\">Pclass ≤ 1.5</text>\n",
       "<text text-anchor=\"start\" x=\"312\" y=\"-275.8\" font-family=\"Helvetica,sans-Serif\" font-size=\"14.00\" fill=\"#000000\">gini = 0.312</text>\n",
       "<text text-anchor=\"start\" x=\"305\" y=\"-260.8\" font-family=\"Helvetica,sans-Serif\" font-size=\"14.00\" fill=\"#000000\">samples = 522</text>\n",
       "<text text-anchor=\"start\" x=\"297.5\" y=\"-245.8\" font-family=\"Helvetica,sans-Serif\" font-size=\"14.00\" fill=\"#000000\">value = [421, 101]</text>\n",
       "<text text-anchor=\"start\" x=\"301\" y=\"-230.8\" font-family=\"Helvetica,sans-Serif\" font-size=\"14.00\" fill=\"#000000\">class = Survived</text>\n",
       "</g>\n",
       "<!-- 0&#45;&gt;1 -->\n",
       "<g id=\"edge1\" class=\"edge\">\n",
       "<title>0&#45;&gt;1</title>\n",
       "<path fill=\"none\" stroke=\"#000000\" d=\"M419.4806,-341.8796C409.9853,-332.6931 399.8422,-322.8798 390.0785,-313.4336\"/>\n",
       "<polygon fill=\"#000000\" stroke=\"#000000\" points=\"392.3237,-310.7359 382.703,-306.2981 387.4564,-315.7668 392.3237,-310.7359\"/>\n",
       "<text text-anchor=\"middle\" x=\"383.1162\" y=\"-327.5947\" font-family=\"Helvetica,sans-Serif\" font-size=\"14.00\" fill=\"#000000\">True</text>\n",
       "</g>\n",
       "<!-- 8 -->\n",
       "<g id=\"node9\" class=\"node\">\n",
       "<title>8</title>\n",
       "<path fill=\"#7fc0ee\" stroke=\"#000000\" d=\"M637,-306C637,-306 546,-306 546,-306 540,-306 534,-300 534,-294 534,-294 534,-235 534,-235 534,-229 540,-223 546,-223 546,-223 637,-223 637,-223 643,-223 649,-229 649,-235 649,-235 649,-294 649,-294 649,-300 643,-306 637,-306\"/>\n",
       "<text text-anchor=\"start\" x=\"562.5\" y=\"-290.8\" font-family=\"Helvetica,sans-Serif\" font-size=\"14.00\" fill=\"#000000\">Pclass ≤ 2.5</text>\n",
       "<text text-anchor=\"start\" x=\"564\" y=\"-275.8\" font-family=\"Helvetica,sans-Serif\" font-size=\"14.00\" fill=\"#000000\">gini = 0.386</text>\n",
       "<text text-anchor=\"start\" x=\"557\" y=\"-260.8\" font-family=\"Helvetica,sans-Serif\" font-size=\"14.00\" fill=\"#000000\">samples = 279</text>\n",
       "<text text-anchor=\"start\" x=\"552.5\" y=\"-245.8\" font-family=\"Helvetica,sans-Serif\" font-size=\"14.00\" fill=\"#000000\">value = [73, 206]</text>\n",
       "<text text-anchor=\"start\" x=\"542\" y=\"-230.8\" font-family=\"Helvetica,sans-Serif\" font-size=\"14.00\" fill=\"#000000\">class = Not_Survived</text>\n",
       "</g>\n",
       "<!-- 0&#45;&gt;8 -->\n",
       "<g id=\"edge8\" class=\"edge\">\n",
       "<title>0&#45;&gt;8</title>\n",
       "<path fill=\"none\" stroke=\"#000000\" d=\"M507.6179,-341.8796C517.674,-332.6031 528.423,-322.6874 538.7554,-313.1559\"/>\n",
       "<polygon fill=\"#000000\" stroke=\"#000000\" points=\"541.2124,-315.6511 546.1895,-306.2981 536.4661,-310.506 541.2124,-315.6511\"/>\n",
       "<text text-anchor=\"middle\" x=\"545.1822\" y=\"-327.5778\" font-family=\"Helvetica,sans-Serif\" font-size=\"14.00\" fill=\"#000000\">False</text>\n",
       "</g>\n",
       "<!-- 2 -->\n",
       "<g id=\"node3\" class=\"node\">\n",
       "<title>2</title>\n",
       "<path fill=\"#f7d8c1\" stroke=\"#000000\" d=\"M192,-187C192,-187 123,-187 123,-187 117,-187 111,-181 111,-175 111,-175 111,-116 111,-116 111,-110 117,-104 123,-104 123,-104 192,-104 192,-104 198,-104 204,-110 204,-116 204,-116 204,-175 204,-175 204,-181 198,-187 192,-187\"/>\n",
       "<text text-anchor=\"start\" x=\"124.5\" y=\"-171.8\" font-family=\"Helvetica,sans-Serif\" font-size=\"14.00\" fill=\"#000000\">Fare ≤ 26.144</text>\n",
       "<text text-anchor=\"start\" x=\"130\" y=\"-156.8\" font-family=\"Helvetica,sans-Serif\" font-size=\"14.00\" fill=\"#000000\">gini = 0.483</text>\n",
       "<text text-anchor=\"start\" x=\"123\" y=\"-141.8\" font-family=\"Helvetica,sans-Serif\" font-size=\"14.00\" fill=\"#000000\">samples = 108</text>\n",
       "<text text-anchor=\"start\" x=\"121\" y=\"-126.8\" font-family=\"Helvetica,sans-Serif\" font-size=\"14.00\" fill=\"#000000\">value = [64, 44]</text>\n",
       "<text text-anchor=\"start\" x=\"119\" y=\"-111.8\" font-family=\"Helvetica,sans-Serif\" font-size=\"14.00\" fill=\"#000000\">class = Survived</text>\n",
       "</g>\n",
       "<!-- 1&#45;&gt;2 -->\n",
       "<g id=\"edge2\" class=\"edge\">\n",
       "<title>1&#45;&gt;2</title>\n",
       "<path fill=\"none\" stroke=\"#000000\" d=\"M289.2859,-231.6677C265.4737,-216.0982 236.9636,-197.4569 212.5613,-181.5016\"/>\n",
       "<polygon fill=\"#000000\" stroke=\"#000000\" points=\"214.4008,-178.5226 204.1157,-175.9795 210.57,-184.3814 214.4008,-178.5226\"/>\n",
       "</g>\n",
       "<!-- 5 -->\n",
       "<g id=\"node6\" class=\"node\">\n",
       "<title>5</title>\n",
       "<path fill=\"#e99559\" stroke=\"#000000\" d=\"M374.5,-187C374.5,-187 304.5,-187 304.5,-187 298.5,-187 292.5,-181 292.5,-175 292.5,-175 292.5,-116 292.5,-116 292.5,-110 298.5,-104 304.5,-104 304.5,-104 374.5,-104 374.5,-104 380.5,-104 386.5,-110 386.5,-116 386.5,-116 386.5,-175 386.5,-175 386.5,-181 380.5,-187 374.5,-187\"/>\n",
       "<text text-anchor=\"start\" x=\"317\" y=\"-171.8\" font-family=\"Helvetica,sans-Serif\" font-size=\"14.00\" fill=\"#000000\">Age ≤ 0.5</text>\n",
       "<text text-anchor=\"start\" x=\"312\" y=\"-156.8\" font-family=\"Helvetica,sans-Serif\" font-size=\"14.00\" fill=\"#000000\">gini = 0.237</text>\n",
       "<text text-anchor=\"start\" x=\"305\" y=\"-141.8\" font-family=\"Helvetica,sans-Serif\" font-size=\"14.00\" fill=\"#000000\">samples = 414</text>\n",
       "<text text-anchor=\"start\" x=\"300.5\" y=\"-126.8\" font-family=\"Helvetica,sans-Serif\" font-size=\"14.00\" fill=\"#000000\">value = [357, 57]</text>\n",
       "<text text-anchor=\"start\" x=\"301\" y=\"-111.8\" font-family=\"Helvetica,sans-Serif\" font-size=\"14.00\" fill=\"#000000\">class = Survived</text>\n",
       "</g>\n",
       "<!-- 1&#45;&gt;5 -->\n",
       "<g id=\"edge5\" class=\"edge\">\n",
       "<title>1&#45;&gt;5</title>\n",
       "<path fill=\"none\" stroke=\"#000000\" d=\"M339.5,-222.8796C339.5,-214.6838 339.5,-205.9891 339.5,-197.5013\"/>\n",
       "<polygon fill=\"#000000\" stroke=\"#000000\" points=\"343.0001,-197.298 339.5,-187.2981 336.0001,-197.2981 343.0001,-197.298\"/>\n",
       "</g>\n",
       "<!-- 3 -->\n",
       "<g id=\"node4\" class=\"node\">\n",
       "<title>3</title>\n",
       "<path fill=\"#e58139\" stroke=\"#000000\" d=\"M81,-68C81,-68 12,-68 12,-68 6,-68 0,-62 0,-56 0,-56 0,-12 0,-12 0,-6 6,0 12,0 12,0 81,0 81,0 87,0 93,-6 93,-12 93,-12 93,-56 93,-56 93,-62 87,-68 81,-68\"/>\n",
       "<text text-anchor=\"start\" x=\"25\" y=\"-52.8\" font-family=\"Helvetica,sans-Serif\" font-size=\"14.00\" fill=\"#000000\">gini = 0.0</text>\n",
       "<text text-anchor=\"start\" x=\"18\" y=\"-37.8\" font-family=\"Helvetica,sans-Serif\" font-size=\"14.00\" fill=\"#000000\">samples = 8</text>\n",
       "<text text-anchor=\"start\" x=\"16\" y=\"-22.8\" font-family=\"Helvetica,sans-Serif\" font-size=\"14.00\" fill=\"#000000\">value = [8, 0]</text>\n",
       "<text text-anchor=\"start\" x=\"8\" y=\"-7.8\" font-family=\"Helvetica,sans-Serif\" font-size=\"14.00\" fill=\"#000000\">class = Survived</text>\n",
       "</g>\n",
       "<!-- 2&#45;&gt;3 -->\n",
       "<g id=\"edge3\" class=\"edge\">\n",
       "<title>2&#45;&gt;3</title>\n",
       "<path fill=\"none\" stroke=\"#000000\" d=\"M116.1677,-103.9815C106.9267,-94.6989 97.1242,-84.8522 87.8813,-75.5677\"/>\n",
       "<polygon fill=\"#000000\" stroke=\"#000000\" points=\"90.1457,-72.8813 80.61,-68.2637 85.1848,-77.82 90.1457,-72.8813\"/>\n",
       "</g>\n",
       "<!-- 4 -->\n",
       "<g id=\"node5\" class=\"node\">\n",
       "<title>4</title>\n",
       "<path fill=\"#f9e4d5\" stroke=\"#000000\" d=\"M192,-68C192,-68 123,-68 123,-68 117,-68 111,-62 111,-56 111,-56 111,-12 111,-12 111,-6 117,0 123,0 123,0 192,0 192,0 198,0 204,-6 204,-12 204,-12 204,-56 204,-56 204,-62 198,-68 192,-68\"/>\n",
       "<text text-anchor=\"start\" x=\"130\" y=\"-52.8\" font-family=\"Helvetica,sans-Serif\" font-size=\"14.00\" fill=\"#000000\">gini = 0.493</text>\n",
       "<text text-anchor=\"start\" x=\"123\" y=\"-37.8\" font-family=\"Helvetica,sans-Serif\" font-size=\"14.00\" fill=\"#000000\">samples = 100</text>\n",
       "<text text-anchor=\"start\" x=\"121\" y=\"-22.8\" font-family=\"Helvetica,sans-Serif\" font-size=\"14.00\" fill=\"#000000\">value = [56, 44]</text>\n",
       "<text text-anchor=\"start\" x=\"119\" y=\"-7.8\" font-family=\"Helvetica,sans-Serif\" font-size=\"14.00\" fill=\"#000000\">class = Survived</text>\n",
       "</g>\n",
       "<!-- 2&#45;&gt;4 -->\n",
       "<g id=\"edge4\" class=\"edge\">\n",
       "<title>2&#45;&gt;4</title>\n",
       "<path fill=\"none\" stroke=\"#000000\" d=\"M157.5,-103.9815C157.5,-95.618 157.5,-86.7965 157.5,-78.3409\"/>\n",
       "<polygon fill=\"#000000\" stroke=\"#000000\" points=\"161.0001,-78.2636 157.5,-68.2637 154.0001,-78.2637 161.0001,-78.2636\"/>\n",
       "</g>\n",
       "<!-- 6 -->\n",
       "<g id=\"node7\" class=\"node\">\n",
       "<title>6</title>\n",
       "<path fill=\"#f3f9fd\" stroke=\"#000000\" d=\"M325,-68C325,-68 234,-68 234,-68 228,-68 222,-62 222,-56 222,-56 222,-12 222,-12 222,-6 228,0 234,0 234,0 325,0 325,0 331,0 337,-6 337,-12 337,-12 337,-56 337,-56 337,-62 331,-68 325,-68\"/>\n",
       "<text text-anchor=\"start\" x=\"252\" y=\"-52.8\" font-family=\"Helvetica,sans-Serif\" font-size=\"14.00\" fill=\"#000000\">gini = 0.499</text>\n",
       "<text text-anchor=\"start\" x=\"248\" y=\"-37.8\" font-family=\"Helvetica,sans-Serif\" font-size=\"14.00\" fill=\"#000000\">samples = 31</text>\n",
       "<text text-anchor=\"start\" x=\"243\" y=\"-22.8\" font-family=\"Helvetica,sans-Serif\" font-size=\"14.00\" fill=\"#000000\">value = [15, 16]</text>\n",
       "<text text-anchor=\"start\" x=\"230\" y=\"-7.8\" font-family=\"Helvetica,sans-Serif\" font-size=\"14.00\" fill=\"#000000\">class = Not_Survived</text>\n",
       "</g>\n",
       "<!-- 5&#45;&gt;6 -->\n",
       "<g id=\"edge6\" class=\"edge\">\n",
       "<title>5&#45;&gt;6</title>\n",
       "<path fill=\"none\" stroke=\"#000000\" d=\"M317.1582,-103.9815C312.4598,-95.2504 307.4929,-86.0202 302.7617,-77.2281\"/>\n",
       "<polygon fill=\"#000000\" stroke=\"#000000\" points=\"305.7586,-75.4111 297.9379,-68.2637 299.5944,-78.7282 305.7586,-75.4111\"/>\n",
       "</g>\n",
       "<!-- 7 -->\n",
       "<g id=\"node8\" class=\"node\">\n",
       "<title>7</title>\n",
       "<path fill=\"#e89051\" stroke=\"#000000\" d=\"M437.5,-68C437.5,-68 367.5,-68 367.5,-68 361.5,-68 355.5,-62 355.5,-56 355.5,-56 355.5,-12 355.5,-12 355.5,-6 361.5,0 367.5,0 367.5,0 437.5,0 437.5,0 443.5,0 449.5,-6 449.5,-12 449.5,-12 449.5,-56 449.5,-56 449.5,-62 443.5,-68 437.5,-68\"/>\n",
       "<text text-anchor=\"start\" x=\"375\" y=\"-52.8\" font-family=\"Helvetica,sans-Serif\" font-size=\"14.00\" fill=\"#000000\">gini = 0.191</text>\n",
       "<text text-anchor=\"start\" x=\"368\" y=\"-37.8\" font-family=\"Helvetica,sans-Serif\" font-size=\"14.00\" fill=\"#000000\">samples = 383</text>\n",
       "<text text-anchor=\"start\" x=\"363.5\" y=\"-22.8\" font-family=\"Helvetica,sans-Serif\" font-size=\"14.00\" fill=\"#000000\">value = [342, 41]</text>\n",
       "<text text-anchor=\"start\" x=\"364\" y=\"-7.8\" font-family=\"Helvetica,sans-Serif\" font-size=\"14.00\" fill=\"#000000\">class = Survived</text>\n",
       "</g>\n",
       "<!-- 5&#45;&gt;7 -->\n",
       "<g id=\"edge7\" class=\"edge\">\n",
       "<title>5&#45;&gt;7</title>\n",
       "<path fill=\"none\" stroke=\"#000000\" d=\"M362.9589,-103.9815C367.8922,-95.2504 373.1074,-86.0202 378.0752,-77.2281\"/>\n",
       "<polygon fill=\"#000000\" stroke=\"#000000\" points=\"381.2681,-78.6918 383.1403,-68.2637 375.1737,-75.2483 381.2681,-78.6918\"/>\n",
       "</g>\n",
       "<!-- 9 -->\n",
       "<g id=\"node10\" class=\"node\">\n",
       "<title>9</title>\n",
       "<path fill=\"#44a3e6\" stroke=\"#000000\" d=\"M637,-187C637,-187 546,-187 546,-187 540,-187 534,-181 534,-175 534,-175 534,-116 534,-116 534,-110 540,-104 546,-104 546,-104 637,-104 637,-104 643,-104 649,-110 649,-116 649,-116 649,-175 649,-175 649,-181 643,-187 637,-187\"/>\n",
       "<text text-anchor=\"start\" x=\"558.5\" y=\"-171.8\" font-family=\"Helvetica,sans-Serif\" font-size=\"14.00\" fill=\"#000000\">Fare ≤ 28.856</text>\n",
       "<text text-anchor=\"start\" x=\"564\" y=\"-156.8\" font-family=\"Helvetica,sans-Serif\" font-size=\"14.00\" fill=\"#000000\">gini = 0.102</text>\n",
       "<text text-anchor=\"start\" x=\"557\" y=\"-141.8\" font-family=\"Helvetica,sans-Serif\" font-size=\"14.00\" fill=\"#000000\">samples = 148</text>\n",
       "<text text-anchor=\"start\" x=\"555\" y=\"-126.8\" font-family=\"Helvetica,sans-Serif\" font-size=\"14.00\" fill=\"#000000\">value = [8, 140]</text>\n",
       "<text text-anchor=\"start\" x=\"542\" y=\"-111.8\" font-family=\"Helvetica,sans-Serif\" font-size=\"14.00\" fill=\"#000000\">class = Not_Survived</text>\n",
       "</g>\n",
       "<!-- 8&#45;&gt;9 -->\n",
       "<g id=\"edge9\" class=\"edge\">\n",
       "<title>8&#45;&gt;9</title>\n",
       "<path fill=\"none\" stroke=\"#000000\" d=\"M591.5,-222.8796C591.5,-214.6838 591.5,-205.9891 591.5,-197.5013\"/>\n",
       "<polygon fill=\"#000000\" stroke=\"#000000\" points=\"595.0001,-197.298 591.5,-187.2981 588.0001,-197.2981 595.0001,-197.298\"/>\n",
       "</g>\n",
       "<!-- 12 -->\n",
       "<g id=\"node13\" class=\"node\">\n",
       "<title>12</title>\n",
       "<path fill=\"#fcfeff\" stroke=\"#000000\" d=\"M837,-187C837,-187 746,-187 746,-187 740,-187 734,-181 734,-175 734,-175 734,-116 734,-116 734,-110 740,-104 746,-104 746,-104 837,-104 837,-104 843,-104 849,-110 849,-116 849,-116 849,-175 849,-175 849,-181 843,-187 837,-187\"/>\n",
       "<text text-anchor=\"start\" x=\"758.5\" y=\"-171.8\" font-family=\"Helvetica,sans-Serif\" font-size=\"14.00\" fill=\"#000000\">Fare ≤ 22.904</text>\n",
       "<text text-anchor=\"start\" x=\"770\" y=\"-156.8\" font-family=\"Helvetica,sans-Serif\" font-size=\"14.00\" fill=\"#000000\">gini = 0.5</text>\n",
       "<text text-anchor=\"start\" x=\"757\" y=\"-141.8\" font-family=\"Helvetica,sans-Serif\" font-size=\"14.00\" fill=\"#000000\">samples = 131</text>\n",
       "<text text-anchor=\"start\" x=\"755\" y=\"-126.8\" font-family=\"Helvetica,sans-Serif\" font-size=\"14.00\" fill=\"#000000\">value = [65, 66]</text>\n",
       "<text text-anchor=\"start\" x=\"742\" y=\"-111.8\" font-family=\"Helvetica,sans-Serif\" font-size=\"14.00\" fill=\"#000000\">class = Not_Survived</text>\n",
       "</g>\n",
       "<!-- 8&#45;&gt;12 -->\n",
       "<g id=\"edge12\" class=\"edge\">\n",
       "<title>8&#45;&gt;12</title>\n",
       "<path fill=\"none\" stroke=\"#000000\" d=\"M649.08,-230.2399C672.8214,-216.1138 700.4786,-199.6577 725.0714,-185.025\"/>\n",
       "<polygon fill=\"#000000\" stroke=\"#000000\" points=\"727.1761,-187.8455 733.9803,-179.7242 723.5967,-181.8298 727.1761,-187.8455\"/>\n",
       "</g>\n",
       "<!-- 10 -->\n",
       "<g id=\"node11\" class=\"node\">\n",
       "<title>10</title>\n",
       "<path fill=\"#4ea8e8\" stroke=\"#000000\" d=\"M571,-68C571,-68 480,-68 480,-68 474,-68 468,-62 468,-56 468,-56 468,-12 468,-12 468,-6 474,0 480,0 480,0 571,0 571,0 577,0 583,-6 583,-12 583,-12 583,-56 583,-56 583,-62 577,-68 571,-68\"/>\n",
       "<text text-anchor=\"start\" x=\"498\" y=\"-52.8\" font-family=\"Helvetica,sans-Serif\" font-size=\"14.00\" fill=\"#000000\">gini = 0.175</text>\n",
       "<text text-anchor=\"start\" x=\"494\" y=\"-37.8\" font-family=\"Helvetica,sans-Serif\" font-size=\"14.00\" fill=\"#000000\">samples = 62</text>\n",
       "<text text-anchor=\"start\" x=\"492\" y=\"-22.8\" font-family=\"Helvetica,sans-Serif\" font-size=\"14.00\" fill=\"#000000\">value = [6, 56]</text>\n",
       "<text text-anchor=\"start\" x=\"476\" y=\"-7.8\" font-family=\"Helvetica,sans-Serif\" font-size=\"14.00\" fill=\"#000000\">class = Not_Survived</text>\n",
       "</g>\n",
       "<!-- 9&#45;&gt;10 -->\n",
       "<g id=\"edge10\" class=\"edge\">\n",
       "<title>9&#45;&gt;10</title>\n",
       "<path fill=\"none\" stroke=\"#000000\" d=\"M566.924,-103.9815C561.7014,-95.1585 556.1771,-85.8258 550.9237,-76.9506\"/>\n",
       "<polygon fill=\"#000000\" stroke=\"#000000\" points=\"553.8874,-75.0863 545.7816,-68.2637 547.8636,-78.652 553.8874,-75.0863\"/>\n",
       "</g>\n",
       "<!-- 11 -->\n",
       "<g id=\"node12\" class=\"node\">\n",
       "<title>11</title>\n",
       "<path fill=\"#3e9fe6\" stroke=\"#000000\" d=\"M704,-68C704,-68 613,-68 613,-68 607,-68 601,-62 601,-56 601,-56 601,-12 601,-12 601,-6 607,0 613,0 613,0 704,0 704,0 710,0 716,-6 716,-12 716,-12 716,-56 716,-56 716,-62 710,-68 704,-68\"/>\n",
       "<text text-anchor=\"start\" x=\"631\" y=\"-52.8\" font-family=\"Helvetica,sans-Serif\" font-size=\"14.00\" fill=\"#000000\">gini = 0.045</text>\n",
       "<text text-anchor=\"start\" x=\"627\" y=\"-37.8\" font-family=\"Helvetica,sans-Serif\" font-size=\"14.00\" fill=\"#000000\">samples = 86</text>\n",
       "<text text-anchor=\"start\" x=\"625\" y=\"-22.8\" font-family=\"Helvetica,sans-Serif\" font-size=\"14.00\" fill=\"#000000\">value = [2, 84]</text>\n",
       "<text text-anchor=\"start\" x=\"609\" y=\"-7.8\" font-family=\"Helvetica,sans-Serif\" font-size=\"14.00\" fill=\"#000000\">class = Not_Survived</text>\n",
       "</g>\n",
       "<!-- 9&#45;&gt;11 -->\n",
       "<g id=\"edge11\" class=\"edge\">\n",
       "<title>9&#45;&gt;11</title>\n",
       "<path fill=\"none\" stroke=\"#000000\" d=\"M616.4483,-103.9815C621.7501,-95.1585 627.3581,-85.8258 632.6911,-76.9506\"/>\n",
       "<polygon fill=\"#000000\" stroke=\"#000000\" points=\"635.7605,-78.638 637.9111,-68.2637 629.7604,-75.0325 635.7605,-78.638\"/>\n",
       "</g>\n",
       "<!-- 13 -->\n",
       "<g id=\"node14\" class=\"node\">\n",
       "<title>13</title>\n",
       "<path fill=\"#c3e1f7\" stroke=\"#000000\" d=\"M837,-68C837,-68 746,-68 746,-68 740,-68 734,-62 734,-56 734,-56 734,-12 734,-12 734,-6 740,0 746,0 746,0 837,0 837,0 843,0 849,-6 849,-12 849,-12 849,-56 849,-56 849,-62 843,-68 837,-68\"/>\n",
       "<text text-anchor=\"start\" x=\"764\" y=\"-52.8\" font-family=\"Helvetica,sans-Serif\" font-size=\"14.00\" fill=\"#000000\">gini = 0.484</text>\n",
       "<text text-anchor=\"start\" x=\"757\" y=\"-37.8\" font-family=\"Helvetica,sans-Serif\" font-size=\"14.00\" fill=\"#000000\">samples = 107</text>\n",
       "<text text-anchor=\"start\" x=\"755\" y=\"-22.8\" font-family=\"Helvetica,sans-Serif\" font-size=\"14.00\" fill=\"#000000\">value = [44, 63]</text>\n",
       "<text text-anchor=\"start\" x=\"742\" y=\"-7.8\" font-family=\"Helvetica,sans-Serif\" font-size=\"14.00\" fill=\"#000000\">class = Not_Survived</text>\n",
       "</g>\n",
       "<!-- 12&#45;&gt;13 -->\n",
       "<g id=\"edge13\" class=\"edge\">\n",
       "<title>12&#45;&gt;13</title>\n",
       "<path fill=\"none\" stroke=\"#000000\" d=\"M791.5,-103.9815C791.5,-95.618 791.5,-86.7965 791.5,-78.3409\"/>\n",
       "<polygon fill=\"#000000\" stroke=\"#000000\" points=\"795.0001,-78.2636 791.5,-68.2637 788.0001,-78.2637 795.0001,-78.2636\"/>\n",
       "</g>\n",
       "<!-- 14 -->\n",
       "<g id=\"node15\" class=\"node\">\n",
       "<title>14</title>\n",
       "<path fill=\"#e99355\" stroke=\"#000000\" d=\"M948,-68C948,-68 879,-68 879,-68 873,-68 867,-62 867,-56 867,-56 867,-12 867,-12 867,-6 873,0 879,0 879,0 948,0 948,0 954,0 960,-6 960,-12 960,-12 960,-56 960,-56 960,-62 954,-68 948,-68\"/>\n",
       "<text text-anchor=\"start\" x=\"886\" y=\"-52.8\" font-family=\"Helvetica,sans-Serif\" font-size=\"14.00\" fill=\"#000000\">gini = 0.219</text>\n",
       "<text text-anchor=\"start\" x=\"882\" y=\"-37.8\" font-family=\"Helvetica,sans-Serif\" font-size=\"14.00\" fill=\"#000000\">samples = 24</text>\n",
       "<text text-anchor=\"start\" x=\"880\" y=\"-22.8\" font-family=\"Helvetica,sans-Serif\" font-size=\"14.00\" fill=\"#000000\">value = [21, 3]</text>\n",
       "<text text-anchor=\"start\" x=\"875\" y=\"-7.8\" font-family=\"Helvetica,sans-Serif\" font-size=\"14.00\" fill=\"#000000\">class = Survived</text>\n",
       "</g>\n",
       "<!-- 12&#45;&gt;14 -->\n",
       "<g id=\"edge14\" class=\"edge\">\n",
       "<title>12&#45;&gt;14</title>\n",
       "<path fill=\"none\" stroke=\"#000000\" d=\"M836.9283,-103.9815C847.2861,-94.5151 858.2859,-84.462 868.6206,-75.0168\"/>\n",
       "<polygon fill=\"#000000\" stroke=\"#000000\" points=\"870.9893,-77.5935 876.0097,-68.2637 866.2669,-72.4264 870.9893,-77.5935\"/>\n",
       "</g>\n",
       "</g>\n",
       "</svg>\n"
      ],
      "text/plain": [
       "<graphviz.files.Source at 0x127b64160>"
      ]
     },
     "execution_count": 30,
     "metadata": {},
     "output_type": "execute_result"
    }
   ],
   "source": [
    "dot_data = tree.export_graphviz(decision_tree, out_file=None, \n",
    "                     feature_names=['Pclass', 'Sex', 'Age', 'Fare', 'Embarked'],  \n",
    "                     class_names=[\"Survived\", \"Not_Survived\"],  \n",
    "                     filled=True, rounded=True,  \n",
    "                     special_characters=True)  \n",
    "graph = graphviz.Source(dot_data)  \n",
    "graph "
   ]
  },
  {
   "cell_type": "markdown",
   "metadata": {},
   "source": [
    "### Interactive Tasks\n",
    "\n",
    "After you inspected the decision trees and tried out different parameters, feel free to try the following changes as well:\n",
    "- What happens when you use the actual age instead to the age-class for your predictions? (You will need to re-load the data and skip the step in which the age values are put into classes.)\n",
    "- Do you think there are still features in the data that might not have a predictive power?\n",
    "- What other feature can you think of, that could help the classification?\n",
    "- Should precision and recall always be considered equally important? Can you think of cases where one or the other is more important?"
   ]
  },
  {
   "cell_type": "markdown",
   "metadata": {},
   "source": [
    "# Clustering\n",
    "\n",
    "After looking at a supervised learning approach to classify data, let us take a closer look at unsupervised learning.\n",
    "In particular, we want to investigate data about customers of a mall.\n",
    "\n",
    "Image you have selected different data about the customers that visit your mall using a survey.\n",
    "Now you want to improve your sales and marketing strategy. In order to do so, you want to identfy different class/clusters of shoppers that are similar in their shopping behaviour.\n",
    "In your survey, you have collected the following data:\n",
    "\n",
    "- Gender\n",
    "- Age\n",
    "- Annual Income\n",
    "- Spending Score (Relative score how much the customer spents when visit the mall)\n",
    "\n",
    "Let us start by loading and checking out our data."
   ]
  },
  {
   "cell_type": "code",
   "execution_count": 31,
   "metadata": {},
   "outputs": [
    {
     "name": "stdout",
     "output_type": "stream",
     "text": [
      "<class 'pandas.core.frame.DataFrame'>\n",
      "Int64Index: 200 entries, 1 to 200\n",
      "Data columns (total 4 columns):\n",
      " #   Column                  Non-Null Count  Dtype \n",
      "---  ------                  --------------  ----- \n",
      " 0   Gender                  200 non-null    object\n",
      " 1   Age                     200 non-null    int64 \n",
      " 2   Annual Income (k$)      200 non-null    int64 \n",
      " 3   Spending Score (1-100)  200 non-null    int64 \n",
      "dtypes: int64(3), object(1)\n",
      "memory usage: 7.8+ KB\n"
     ]
    }
   ],
   "source": [
    "# First, we load the newdataset\n",
    "data_url = \"http://people.aifb.kit.edu/zg2916/teaching/hector2020/customer_data.csv\"\n",
    "customer_data = pd.read_csv(data_url)\n",
    "customer_data = customer_data.set_index(\"CustomerID\")\n",
    "customer_data.info()"
   ]
  },
  {
   "cell_type": "markdown",
   "metadata": {},
   "source": [
    "Good news: All customers complete filled out the surveys, so there are no `null` values which you need to handle.\n",
    "\n",
    "Let us take a look at the data before we start our clustering."
   ]
  },
  {
   "cell_type": "code",
   "execution_count": 32,
   "metadata": {},
   "outputs": [
    {
     "data": {
      "text/html": [
       "<div>\n",
       "<style scoped>\n",
       "    .dataframe tbody tr th:only-of-type {\n",
       "        vertical-align: middle;\n",
       "    }\n",
       "\n",
       "    .dataframe tbody tr th {\n",
       "        vertical-align: top;\n",
       "    }\n",
       "\n",
       "    .dataframe thead th {\n",
       "        text-align: right;\n",
       "    }\n",
       "</style>\n",
       "<table border=\"1\" class=\"dataframe\">\n",
       "  <thead>\n",
       "    <tr style=\"text-align: right;\">\n",
       "      <th></th>\n",
       "      <th>Gender</th>\n",
       "      <th>Age</th>\n",
       "      <th>Annual Income (k$)</th>\n",
       "      <th>Spending Score (1-100)</th>\n",
       "    </tr>\n",
       "    <tr>\n",
       "      <th>CustomerID</th>\n",
       "      <th></th>\n",
       "      <th></th>\n",
       "      <th></th>\n",
       "      <th></th>\n",
       "    </tr>\n",
       "  </thead>\n",
       "  <tbody>\n",
       "    <tr>\n",
       "      <th>1</th>\n",
       "      <td>Male</td>\n",
       "      <td>19</td>\n",
       "      <td>15</td>\n",
       "      <td>39</td>\n",
       "    </tr>\n",
       "    <tr>\n",
       "      <th>2</th>\n",
       "      <td>Male</td>\n",
       "      <td>21</td>\n",
       "      <td>15</td>\n",
       "      <td>81</td>\n",
       "    </tr>\n",
       "    <tr>\n",
       "      <th>3</th>\n",
       "      <td>Female</td>\n",
       "      <td>20</td>\n",
       "      <td>16</td>\n",
       "      <td>6</td>\n",
       "    </tr>\n",
       "    <tr>\n",
       "      <th>4</th>\n",
       "      <td>Female</td>\n",
       "      <td>23</td>\n",
       "      <td>16</td>\n",
       "      <td>77</td>\n",
       "    </tr>\n",
       "    <tr>\n",
       "      <th>5</th>\n",
       "      <td>Female</td>\n",
       "      <td>31</td>\n",
       "      <td>17</td>\n",
       "      <td>40</td>\n",
       "    </tr>\n",
       "  </tbody>\n",
       "</table>\n",
       "</div>"
      ],
      "text/plain": [
       "            Gender  Age  Annual Income (k$)  Spending Score (1-100)\n",
       "CustomerID                                                         \n",
       "1             Male   19                  15                      39\n",
       "2             Male   21                  15                      81\n",
       "3           Female   20                  16                       6\n",
       "4           Female   23                  16                      77\n",
       "5           Female   31                  17                      40"
      ]
     },
     "execution_count": 32,
     "metadata": {},
     "output_type": "execute_result"
    }
   ],
   "source": [
    "customer_data.head()"
   ]
  },
  {
   "cell_type": "markdown",
   "metadata": {},
   "source": [
    "As previously, we should replace the non-numeric values for gender again and represent gender with a numeric value (0=Male, 1=Female)"
   ]
  },
  {
   "cell_type": "code",
   "execution_count": 33,
   "metadata": {},
   "outputs": [],
   "source": [
    "genders = {\"Male\": 0, \"Female\": 1}\n",
    "customer_data['Gender'] = customer_data['Gender'].map(genders)"
   ]
  },
  {
   "cell_type": "markdown",
   "metadata": {},
   "source": [
    "## Visualize the data\n",
    "\n",
    "Let us visualize the data to get some further insights into the distribution of the values. Maybe we can already see what potential customer clusters/segments can be.\n",
    "\n",
    "Let us first check how the spending score and the income of the customers are related."
   ]
  },
  {
   "cell_type": "code",
   "execution_count": 34,
   "metadata": {},
   "outputs": [
    {
     "data": {
      "text/plain": [
       "<matplotlib.axes._subplots.AxesSubplot at 0x127b5bef0>"
      ]
     },
     "execution_count": 34,
     "metadata": {},
     "output_type": "execute_result"
    },
    {
     "data": {
      "image/png": "[encoded data removed]",
      "text/plain": [
       "<Figure size 432x288 with 1 Axes>"
      ]
     },
     "metadata": {},
     "output_type": "display_data"
    }
   ],
   "source": [
    "sns.scatterplot(x=\"Annual Income (k$)\", y = \"Spending Score (1-100)\", data=customer_data)"
   ]
  },
  {
   "cell_type": "markdown",
   "metadata": {},
   "source": [
    "We can also introduce a third dimension in our visulaization. For example, we can indicate the age of the customers using a color scale."
   ]
  },
  {
   "cell_type": "code",
   "execution_count": 35,
   "metadata": {},
   "outputs": [
    {
     "data": {
      "text/plain": [
       "<matplotlib.axes._subplots.AxesSubplot at 0x127c812e8>"
      ]
     },
     "execution_count": 35,
     "metadata": {},
     "output_type": "execute_result"
    },
    {
     "data": {
      "image/png": "[encoded data removed]",
      "text/plain": [
       "<Figure size 432x288 with 1 Axes>"
      ]
     },
     "metadata": {},
     "output_type": "display_data"
    }
   ],
   "source": [
    "sns.scatterplot(x=\"Annual Income (k$)\", y = \"Spending Score (1-100)\", hue=\"Age\", data=customer_data) # Adding a hue for Age"
   ]
  },
  {
   "cell_type": "markdown",
   "metadata": {},
   "source": [
    "After getting a first idea about the data, we want to cluster the customers.\n",
    "\n",
    "For simplicity, let us consider the \"income\" and the \"spending score\" as our features to cluster the customers.\n",
    "Since we K-Means is an unsupervised approach, we do not need to split our data into training and test datasets."
   ]
  },
  {
   "cell_type": "code",
   "execution_count": 36,
   "metadata": {},
   "outputs": [],
   "source": [
    "# Select data according to columns\n",
    "X = customer_data[['Annual Income (k$)','Spending Score (1-100)']]\n",
    "X_array = X.to_numpy()"
   ]
  },
  {
   "cell_type": "markdown",
   "metadata": {},
   "source": [
    "## K-Means\n",
    "\n",
    "After selecting the data, we can apply the K-Means clustering algorithm.\n",
    "\n",
    "Even though K-Means is an unsupervised learning algorithm, we will need to specify how many clusters we want the algorithm to identify.\n",
    "Let us start by trying 3 different clusters."
   ]
  },
  {
   "cell_type": "code",
   "execution_count": 37,
   "metadata": {},
   "outputs": [
    {
     "data": {
      "text/plain": [
       "<matplotlib.collections.PathCollection at 0x127dbcda0>"
      ]
     },
     "execution_count": 37,
     "metadata": {},
     "output_type": "execute_result"
    },
    {
     "data": {
      "image/png": "[encoded data removed]",
      "text/plain": [
       "<Figure size 432x288 with 1 Axes>"
      ]
     },
     "metadata": {},
     "output_type": "display_data"
    }
   ],
   "source": [
    "# Cluster the data\n",
    "kmeans = KMeans(3, init='random') #, n_init=1, max_iter=1)\n",
    "\n",
    "# Get Cluster labels to color data in the plot\n",
    "labels = kmeans.fit_predict(X_array)\n",
    "\n",
    "# Get the coordinates of the cluster centers\n",
    "centers = kmeans.cluster_centers_\n",
    "\n",
    "# Plot the data points and use the cluster labels to color the data \n",
    "plt.scatter(X_array[:, 0], X_array[:, 1], c=labels,\n",
    "            s=50, cmap='viridis');\n",
    "\n",
    "# Plot the Centers of the clutsers\n",
    "plt.scatter(centers[:, 0], centers[:, 1], c='black', s=200, alpha=.5)"
   ]
  },
  {
   "cell_type": "markdown",
   "metadata": {},
   "source": [
    "### Interactive tasks\n",
    "\n",
    "- Try out different number of clusters and check how the clusters changes\n",
    "- What do you think would be a good number of clusters and why? Think about what the data represents and what clusters you would expect in the data?\n",
    "- Once you have clustered your customers, how could you make use of this information? (Think about sales and marketing strategies)"
   ]
  },
  {
   "cell_type": "markdown",
   "metadata": {},
   "source": [
    "### Initialization steps\n",
    "\n",
    "The K-Means algorithm starts by initializing random cluster centers. \n",
    "We can also visualize these initial steps by allowing the algorithm to perform only one iteration (Guessing centers and compute the inertia).\n",
    "\n",
    "\n",
    "### Interactive tasks\n",
    "\n",
    "- Re-run the following cell to see how the random initial state of the algorithm changes.\n",
    "- Increase the `max_iter` parameter to allow the algorithm to execute more iterations. After how many iterations does the algorithm converge regardless of its inital state?"
   ]
  },
  {
   "cell_type": "code",
   "execution_count": 38,
   "metadata": {},
   "outputs": [
    {
     "data": {
      "text/plain": [
       "<matplotlib.collections.PathCollection at 0x127f140b8>"
      ]
     },
     "execution_count": 38,
     "metadata": {},
     "output_type": "execute_result"
    },
    {
     "data": {
      "image/png": "[encoded data removed]",
      "text/plain": [
       "<Figure size 432x288 with 1 Axes>"
      ]
     },
     "metadata": {},
     "output_type": "display_data"
    }
   ],
   "source": [
    "# Cluster the data\n",
    "kmeans = KMeans(3, init='random', n_init=1, max_iter=1)\n",
    "\n",
    "# Get Cluster labels to color data in the plot\n",
    "labels = kmeans.fit_predict(X_array)\n",
    "\n",
    "# Get the coordinates of the cluster centers\n",
    "centers = kmeans.cluster_centers_\n",
    "\n",
    "# Plot the data points and use the cluster labels to color the data \n",
    "plt.scatter(X_array[:, 0], X_array[:, 1], c=labels,\n",
    "            s=50, cmap='viridis');\n",
    "\n",
    "# Plot the Centers of the clutsers\n",
    "plt.scatter(centers[:, 0], centers[:, 1], c='black', s=200, alpha=.5)"
   ]
  }
 ],
 "metadata": {
  "kernelspec": {
   "display_name": "Python 3",
   "language": "python",
   "name": "python3"
  },
  "language_info": {
   "codemirror_mode": {
    "name": "ipython",
    "version": 3
   },
   "file_extension": ".py",
   "mimetype": "text/x-python",
   "name": "python",
   "nbconvert_exporter": "python",
   "pygments_lexer": "ipython3",
   "version": "3.6.9"
  }
 },
 "nbformat": 4,
 "nbformat_minor": 2
}
