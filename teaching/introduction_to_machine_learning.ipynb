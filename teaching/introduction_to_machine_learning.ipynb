{
 "cells": [
  {
   "cell_type": "markdown",
   "metadata": {},
   "source": [
    "# Machine Learning Beginner Challenge\n",
    "\n",
    "In this notebook, we learn how to apply machine learning while working on the \"Titanic Challenge\". More specifically, we use machine learning to create a model that predicts which passengers survived the Titanic shipwreck.\n",
    "\n",
    "The Titanic Challenge is a widely used common machine learning beginner challenge. It is also the getting started competition at [Kaggle](https://www.kaggle.com) - the online community of data scientists and machine learners. So, after working through this notebook, you can quickly work on your own, improved solution, join the Kaggle competition, and compare your results with the community - give it a try!\n",
    "\n",
    "We are going to use the python library `scikit-learn`. Scikit-learn is built on NumPy, SciPy, and matplotlib and provides a range of supervised and unsupervised learning algorithms for classification, regression, and clustering. For more information about scikit-learn, click [here](https://scikit-learn.org/stable/). "
   ]
  },
  {
   "cell_type": "code",
   "execution_count": 54,
   "metadata": {},
   "outputs": [],
   "source": [
    "# Imports\n",
    "import numpy as np\n",
    "import pandas as pd\n",
    "import matplotlib.pyplot as plt\n",
    "import seaborn as sns\n",
    "%matplotlib inline \n",
    "from sklearn.model_selection import train_test_split\n",
    "from sklearn import linear_model\n",
    "from sklearn.linear_model import LogisticRegression\n",
    "from sklearn.ensemble import RandomForestClassifier\n",
    "from sklearn.linear_model import Perceptron\n",
    "from sklearn.linear_model import SGDClassifier\n",
    "from sklearn.tree import DecisionTreeClassifier\n",
    "from sklearn.neighbors import KNeighborsClassifier\n",
    "from sklearn.svm import SVC\n",
    "from sklearn.naive_bayes import GaussianNB"
   ]
  },
  {
   "cell_type": "markdown",
   "metadata": {},
   "source": [
    "## Data\n",
    "\n",
    "The file `titanic_data.csv` contains data from Titanic passengers with the following columns:\n",
    "\n",
    "- PassengerId: unique identification number for each passenger\n",
    "- Survived: 0 = No, 1 = Yes\n",
    "- Pclass: the passenger class, 1 = 1st (upperclass), 2 = 2nd (middle class), 3 = 3rd (lower class)\n",
    "- Name: full name of the passenger\n",
    "- Sex: male or female\n",
    "- Age: age of passenger in years, e.g. 22\n",
    "- SibSp: number of siblings/ spouses aboard the Titanic\n",
    "- Parch: number of parents/ children aboard the Titanic\n",
    "- Ticket: ticket number\n",
    "- Fare: passenger fare  \n",
    "- Cabin: cabin number\n",
    "- Embarked: port of embarkation, C = Cherbourg, Q = Queenstown, S = Southampton\n",
    "\n",
    "Let's import the data and have a closer look at it:"
   ]
  },
  {
   "cell_type": "code",
   "execution_count": 55,
   "metadata": {},
   "outputs": [
    {
     "name": "stdout",
     "output_type": "stream",
     "text": [
      "<class 'pandas.core.frame.DataFrame'>\n",
      "RangeIndex: 891 entries, 0 to 890\n",
      "Data columns (total 12 columns):\n",
      "PassengerId    891 non-null int64\n",
      "Survived       891 non-null int64\n",
      "Pclass         891 non-null int64\n",
      "Name           891 non-null object\n",
      "Sex            891 non-null object\n",
      "Age            714 non-null float64\n",
      "SibSp          891 non-null int64\n",
      "Parch          891 non-null int64\n",
      "Ticket         891 non-null object\n",
      "Fare           891 non-null float64\n",
      "Cabin          204 non-null object\n",
      "Embarked       889 non-null object\n",
      "dtypes: float64(2), int64(5), object(5)\n",
      "memory usage: 83.6+ KB\n"
     ]
    }
   ],
   "source": [
    "titanic_data = pd.read_csv(\"titanic_data.csv\")\n",
    "titanic_data.info()"
   ]
  },
  {
   "cell_type": "code",
   "execution_count": 56,
   "metadata": {},
   "outputs": [
    {
     "data": {
      "text/html": [
       "<div>\n",
       "<style>\n",
       "    .dataframe thead tr:only-child th {\n",
       "        text-align: right;\n",
       "    }\n",
       "\n",
       "    .dataframe thead th {\n",
       "        text-align: left;\n",
       "    }\n",
       "\n",
       "    .dataframe tbody tr th {\n",
       "        vertical-align: top;\n",
       "    }\n",
       "</style>\n",
       "<table border=\"1\" class=\"dataframe\">\n",
       "  <thead>\n",
       "    <tr style=\"text-align: right;\">\n",
       "      <th></th>\n",
       "      <th>PassengerId</th>\n",
       "      <th>Survived</th>\n",
       "      <th>Pclass</th>\n",
       "      <th>Name</th>\n",
       "      <th>Sex</th>\n",
       "      <th>Age</th>\n",
       "      <th>SibSp</th>\n",
       "      <th>Parch</th>\n",
       "      <th>Ticket</th>\n",
       "      <th>Fare</th>\n",
       "      <th>Cabin</th>\n",
       "      <th>Embarked</th>\n",
       "    </tr>\n",
       "  </thead>\n",
       "  <tbody>\n",
       "    <tr>\n",
       "      <th>0</th>\n",
       "      <td>1</td>\n",
       "      <td>0</td>\n",
       "      <td>3</td>\n",
       "      <td>Braund, Mr. Owen Harris</td>\n",
       "      <td>male</td>\n",
       "      <td>22.0</td>\n",
       "      <td>1</td>\n",
       "      <td>0</td>\n",
       "      <td>A/5 21171</td>\n",
       "      <td>7.2500</td>\n",
       "      <td>NaN</td>\n",
       "      <td>S</td>\n",
       "    </tr>\n",
       "    <tr>\n",
       "      <th>1</th>\n",
       "      <td>2</td>\n",
       "      <td>1</td>\n",
       "      <td>1</td>\n",
       "      <td>Cumings, Mrs. John Bradley (Florence Briggs Th...</td>\n",
       "      <td>female</td>\n",
       "      <td>38.0</td>\n",
       "      <td>1</td>\n",
       "      <td>0</td>\n",
       "      <td>PC 17599</td>\n",
       "      <td>71.2833</td>\n",
       "      <td>C85</td>\n",
       "      <td>C</td>\n",
       "    </tr>\n",
       "    <tr>\n",
       "      <th>2</th>\n",
       "      <td>3</td>\n",
       "      <td>1</td>\n",
       "      <td>3</td>\n",
       "      <td>Heikkinen, Miss. Laina</td>\n",
       "      <td>female</td>\n",
       "      <td>26.0</td>\n",
       "      <td>0</td>\n",
       "      <td>0</td>\n",
       "      <td>STON/O2. 3101282</td>\n",
       "      <td>7.9250</td>\n",
       "      <td>NaN</td>\n",
       "      <td>S</td>\n",
       "    </tr>\n",
       "    <tr>\n",
       "      <th>3</th>\n",
       "      <td>4</td>\n",
       "      <td>1</td>\n",
       "      <td>1</td>\n",
       "      <td>Futrelle, Mrs. Jacques Heath (Lily May Peel)</td>\n",
       "      <td>female</td>\n",
       "      <td>35.0</td>\n",
       "      <td>1</td>\n",
       "      <td>0</td>\n",
       "      <td>113803</td>\n",
       "      <td>53.1000</td>\n",
       "      <td>C123</td>\n",
       "      <td>S</td>\n",
       "    </tr>\n",
       "    <tr>\n",
       "      <th>4</th>\n",
       "      <td>5</td>\n",
       "      <td>0</td>\n",
       "      <td>3</td>\n",
       "      <td>Allen, Mr. William Henry</td>\n",
       "      <td>male</td>\n",
       "      <td>35.0</td>\n",
       "      <td>0</td>\n",
       "      <td>0</td>\n",
       "      <td>373450</td>\n",
       "      <td>8.0500</td>\n",
       "      <td>NaN</td>\n",
       "      <td>S</td>\n",
       "    </tr>\n",
       "    <tr>\n",
       "      <th>5</th>\n",
       "      <td>6</td>\n",
       "      <td>0</td>\n",
       "      <td>3</td>\n",
       "      <td>Moran, Mr. James</td>\n",
       "      <td>male</td>\n",
       "      <td>NaN</td>\n",
       "      <td>0</td>\n",
       "      <td>0</td>\n",
       "      <td>330877</td>\n",
       "      <td>8.4583</td>\n",
       "      <td>NaN</td>\n",
       "      <td>Q</td>\n",
       "    </tr>\n",
       "    <tr>\n",
       "      <th>6</th>\n",
       "      <td>7</td>\n",
       "      <td>0</td>\n",
       "      <td>1</td>\n",
       "      <td>McCarthy, Mr. Timothy J</td>\n",
       "      <td>male</td>\n",
       "      <td>54.0</td>\n",
       "      <td>0</td>\n",
       "      <td>0</td>\n",
       "      <td>17463</td>\n",
       "      <td>51.8625</td>\n",
       "      <td>E46</td>\n",
       "      <td>S</td>\n",
       "    </tr>\n",
       "    <tr>\n",
       "      <th>7</th>\n",
       "      <td>8</td>\n",
       "      <td>0</td>\n",
       "      <td>3</td>\n",
       "      <td>Palsson, Master. Gosta Leonard</td>\n",
       "      <td>male</td>\n",
       "      <td>2.0</td>\n",
       "      <td>3</td>\n",
       "      <td>1</td>\n",
       "      <td>349909</td>\n",
       "      <td>21.0750</td>\n",
       "      <td>NaN</td>\n",
       "      <td>S</td>\n",
       "    </tr>\n",
       "    <tr>\n",
       "      <th>8</th>\n",
       "      <td>9</td>\n",
       "      <td>1</td>\n",
       "      <td>3</td>\n",
       "      <td>Johnson, Mrs. Oscar W (Elisabeth Vilhelmina Berg)</td>\n",
       "      <td>female</td>\n",
       "      <td>27.0</td>\n",
       "      <td>0</td>\n",
       "      <td>2</td>\n",
       "      <td>347742</td>\n",
       "      <td>11.1333</td>\n",
       "      <td>NaN</td>\n",
       "      <td>S</td>\n",
       "    </tr>\n",
       "    <tr>\n",
       "      <th>9</th>\n",
       "      <td>10</td>\n",
       "      <td>1</td>\n",
       "      <td>2</td>\n",
       "      <td>Nasser, Mrs. Nicholas (Adele Achem)</td>\n",
       "      <td>female</td>\n",
       "      <td>14.0</td>\n",
       "      <td>1</td>\n",
       "      <td>0</td>\n",
       "      <td>237736</td>\n",
       "      <td>30.0708</td>\n",
       "      <td>NaN</td>\n",
       "      <td>C</td>\n",
       "    </tr>\n",
       "  </tbody>\n",
       "</table>\n",
       "</div>"
      ],
      "text/plain": [
       "   PassengerId  Survived  Pclass  \\\n",
       "0            1         0       3   \n",
       "1            2         1       1   \n",
       "2            3         1       3   \n",
       "3            4         1       1   \n",
       "4            5         0       3   \n",
       "5            6         0       3   \n",
       "6            7         0       1   \n",
       "7            8         0       3   \n",
       "8            9         1       3   \n",
       "9           10         1       2   \n",
       "\n",
       "                                                Name     Sex   Age  SibSp  \\\n",
       "0                            Braund, Mr. Owen Harris    male  22.0      1   \n",
       "1  Cumings, Mrs. John Bradley (Florence Briggs Th...  female  38.0      1   \n",
       "2                             Heikkinen, Miss. Laina  female  26.0      0   \n",
       "3       Futrelle, Mrs. Jacques Heath (Lily May Peel)  female  35.0      1   \n",
       "4                           Allen, Mr. William Henry    male  35.0      0   \n",
       "5                                   Moran, Mr. James    male   NaN      0   \n",
       "6                            McCarthy, Mr. Timothy J    male  54.0      0   \n",
       "7                     Palsson, Master. Gosta Leonard    male   2.0      3   \n",
       "8  Johnson, Mrs. Oscar W (Elisabeth Vilhelmina Berg)  female  27.0      0   \n",
       "9                Nasser, Mrs. Nicholas (Adele Achem)  female  14.0      1   \n",
       "\n",
       "   Parch            Ticket     Fare Cabin Embarked  \n",
       "0      0         A/5 21171   7.2500   NaN        S  \n",
       "1      0          PC 17599  71.2833   C85        C  \n",
       "2      0  STON/O2. 3101282   7.9250   NaN        S  \n",
       "3      0            113803  53.1000  C123        S  \n",
       "4      0            373450   8.0500   NaN        S  \n",
       "5      0            330877   8.4583   NaN        Q  \n",
       "6      0             17463  51.8625   E46        S  \n",
       "7      1            349909  21.0750   NaN        S  \n",
       "8      2            347742  11.1333   NaN        S  \n",
       "9      0            237736  30.0708   NaN        C  "
      ]
     },
     "execution_count": 56,
     "metadata": {},
     "output_type": "execute_result"
    }
   ],
   "source": [
    "titanic_data.head(10)"
   ]
  },
  {
   "cell_type": "markdown",
   "metadata": {},
   "source": [
    "It is always essential to have a closer look at the data first. Here are some of the questions you may want to look at more precisely. \n",
    "- Are the features numeric or categorical?\n",
    "- Which features may influence the prediction, and which not?\n",
    "- Which features have to be proceeded? \n",
    "- Do we have missing entries? (NaN)\n",
    "    \n",
    "It is also a good idea to plot some of the features to generate a good understanding of the data and decide for further processing."
   ]
  },
  {
   "cell_type": "code",
   "execution_count": 57,
   "metadata": {},
   "outputs": [
    {
     "data": {
      "text/plain": [
       "<matplotlib.axes._subplots.AxesSubplot at 0x118b50390>"
      ]
     },
     "execution_count": 57,
     "metadata": {},
     "output_type": "execute_result"
    },
    {
     "data": {
      "image/png": "[encoded data removed]",
      "text/plain": [
       "<matplotlib.figure.Figure at 0x114c13860>"
      ]
     },
     "metadata": {},
     "output_type": "display_data"
    }
   ],
   "source": [
    "# Plot Class - Survived\n",
    "sns.barplot(x='Pclass', y='Survived', data=titanic_data)"
   ]
  },
  {
   "cell_type": "markdown",
   "metadata": {},
   "source": [
    "In the graph above we can see that class influences the chance of survival."
   ]
  },
  {
   "cell_type": "code",
   "execution_count": 58,
   "metadata": {},
   "outputs": [
    {
     "data": {
      "text/plain": [
       "<matplotlib.axes._subplots.AxesSubplot at 0x118e79128>"
      ]
     },
     "execution_count": 58,
     "metadata": {},
     "output_type": "execute_result"
    },
    {
     "data": {
      "image/png": "[encoded data removed]",
      "text/plain": [
       "<matplotlib.figure.Figure at 0x118c652b0>"
      ]
     },
     "metadata": {},
     "output_type": "display_data"
    }
   ],
   "source": [
    "# Plot Sex - Survived\n",
    "sns.barplot(x='Sex', y='Survived', data=titanic_data)"
   ]
  },
  {
   "cell_type": "markdown",
   "metadata": {},
   "source": [
    "Also, gender impacts the chance of survival.\n",
    "\n",
    "So the column `Survived` is our prediction target. For our first try, let's focus on the features `Pclass`, `Sex`, `Age`, and `Embarked`. "
   ]
  },
  {
   "cell_type": "code",
   "execution_count": 101,
   "metadata": {},
   "outputs": [
    {
     "name": "stdout",
     "output_type": "stream",
     "text": [
      "342\n",
      "549\n"
     ]
    }
   ],
   "source": [
    "print(len(titanic_data[titanic_data['Survived'] == 1]))\n",
    "print(len(titanic_data[titanic_data['Survived'] == 0]))"
   ]
  },
  {
   "cell_type": "markdown",
   "metadata": {},
   "source": [
    "## Data Preprocessing\n",
    "\n",
    "First, we have to drop the features we don't want to take into consideration for the prediction."
   ]
  },
  {
   "cell_type": "code",
   "execution_count": 59,
   "metadata": {},
   "outputs": [
    {
     "name": "stdout",
     "output_type": "stream",
     "text": [
      "<class 'pandas.core.frame.DataFrame'>\n",
      "RangeIndex: 891 entries, 0 to 890\n",
      "Data columns (total 5 columns):\n",
      "Survived    891 non-null int64\n",
      "Pclass      891 non-null int64\n",
      "Sex         891 non-null object\n",
      "Age         714 non-null float64\n",
      "Embarked    889 non-null object\n",
      "dtypes: float64(1), int64(2), object(2)\n",
      "memory usage: 34.9+ KB\n"
     ]
    }
   ],
   "source": [
    "data = titanic_data.drop(['PassengerId'], axis=1).drop(['Name'], axis=1).drop(['SibSp'], axis=1).drop(['Parch'], axis=1).drop(['Ticket'], axis=1).drop(['Cabin'], axis=1).drop(['Fare'], axis=1)\n",
    "data.info()"
   ]
  },
  {
   "cell_type": "markdown",
   "metadata": {},
   "source": [
    "Now we want to find out about missing entries in the remaining data:"
   ]
  },
  {
   "cell_type": "code",
   "execution_count": 60,
   "metadata": {},
   "outputs": [
    {
     "data": {
      "text/html": [
       "<div>\n",
       "<style>\n",
       "    .dataframe thead tr:only-child th {\n",
       "        text-align: right;\n",
       "    }\n",
       "\n",
       "    .dataframe thead th {\n",
       "        text-align: left;\n",
       "    }\n",
       "\n",
       "    .dataframe tbody tr th {\n",
       "        vertical-align: top;\n",
       "    }\n",
       "</style>\n",
       "<table border=\"1\" class=\"dataframe\">\n",
       "  <thead>\n",
       "    <tr style=\"text-align: right;\">\n",
       "      <th></th>\n",
       "      <th>Total</th>\n",
       "      <th>%</th>\n",
       "    </tr>\n",
       "  </thead>\n",
       "  <tbody>\n",
       "    <tr>\n",
       "      <th>Age</th>\n",
       "      <td>177</td>\n",
       "      <td>19.9</td>\n",
       "    </tr>\n",
       "    <tr>\n",
       "      <th>Embarked</th>\n",
       "      <td>2</td>\n",
       "      <td>0.2</td>\n",
       "    </tr>\n",
       "    <tr>\n",
       "      <th>Sex</th>\n",
       "      <td>0</td>\n",
       "      <td>0.0</td>\n",
       "    </tr>\n",
       "    <tr>\n",
       "      <th>Pclass</th>\n",
       "      <td>0</td>\n",
       "      <td>0.0</td>\n",
       "    </tr>\n",
       "    <tr>\n",
       "      <th>Survived</th>\n",
       "      <td>0</td>\n",
       "      <td>0.0</td>\n",
       "    </tr>\n",
       "  </tbody>\n",
       "</table>\n",
       "</div>"
      ],
      "text/plain": [
       "          Total     %\n",
       "Age         177  19.9\n",
       "Embarked      2   0.2\n",
       "Sex           0   0.0\n",
       "Pclass        0   0.0\n",
       "Survived      0   0.0"
      ]
     },
     "execution_count": 60,
     "metadata": {},
     "output_type": "execute_result"
    }
   ],
   "source": [
    "total = data.isnull().sum().sort_values(ascending=False)\n",
    "percent_1 = data.isnull().sum()/data.isnull().count()*100\n",
    "percent_2 = (round(percent_1, 1)).sort_values(ascending=False)\n",
    "missing_data = pd.concat([total, percent_2], axis=1, keys=['Total', '%'])\n",
    "missing_data"
   ]
  },
  {
   "cell_type": "markdown",
   "metadata": {},
   "source": [
    "As you can see, Age is missing 177 entries, and Embarked is missing 2 entries. We are going to fill the 2 missing entries of Embarked with the most common one and the 177 entires of Age with the average age."
   ]
  },
  {
   "cell_type": "code",
   "execution_count": 61,
   "metadata": {},
   "outputs": [
    {
     "data": {
      "text/plain": [
       "count     889\n",
       "unique      3\n",
       "top         S\n",
       "freq      644\n",
       "Name: Embarked, dtype: object"
      ]
     },
     "execution_count": 61,
     "metadata": {},
     "output_type": "execute_result"
    }
   ],
   "source": [
    "# To find out the most common entry:\n",
    "data['Embarked'].describe()"
   ]
  },
  {
   "cell_type": "code",
   "execution_count": 62,
   "metadata": {},
   "outputs": [],
   "source": [
    "# Fill missing values of Embarked with the most common entry\n",
    "common_value = 'S'\n",
    "data['Embarked'] = data['Embarked'].fillna(common_value)"
   ]
  },
  {
   "cell_type": "code",
   "execution_count": 63,
   "metadata": {},
   "outputs": [],
   "source": [
    "# Fill missing values of Age with the mean Age\n",
    "mean = data['Age'].mean()\n",
    "data['Age'] = data['Age'].fillna(mean)"
   ]
  },
  {
   "cell_type": "markdown",
   "metadata": {},
   "source": [
    "As we saw above in data.info(), we have different datatypes. We need to transform the categorical values of Sex and Embarked into numerical ones so that machine learning algorithms can process them. Furthermore, the features have different ranges that we need to convert into roughly the same scale. In our case, we need to categorize the feature Age."
   ]
  },
  {
   "cell_type": "code",
   "execution_count": 64,
   "metadata": {},
   "outputs": [],
   "source": [
    "#Sex\n",
    "genders = {\"male\": 0, \"female\": 1}\n",
    "data['Sex'] = data['Sex'].map(genders)"
   ]
  },
  {
   "cell_type": "code",
   "execution_count": 65,
   "metadata": {},
   "outputs": [],
   "source": [
    "#Embarked\n",
    "ports = {\"S\": 0, \"C\": 1, \"Q\": 2}\n",
    "data['Embarked'] = data['Embarked'].map(ports)"
   ]
  },
  {
   "cell_type": "markdown",
   "metadata": {},
   "source": [
    "Now we categorize Age and convert it from float to int. For the categorization, it is crucial to distribute the values, and not have 90 % of the data in one group."
   ]
  },
  {
   "cell_type": "code",
   "execution_count": 66,
   "metadata": {},
   "outputs": [],
   "source": [
    "# Age\n",
    "data['Age'] = data['Age'].astype(int)\n",
    "data.loc[ data['Age'] <= 11, 'Age'] = 0\n",
    "data.loc[(data['Age'] > 11) & (data['Age'] <= 18), 'Age'] = 1\n",
    "data.loc[(data['Age'] > 18) & (data['Age'] <= 22), 'Age'] = 2\n",
    "data.loc[(data['Age'] > 22) & (data['Age'] <= 27), 'Age'] = 3\n",
    "data.loc[(data['Age'] > 27) & (data['Age'] <= 33), 'Age'] = 4\n",
    "data.loc[(data['Age'] > 33) & (data['Age'] <= 40), 'Age'] = 5\n",
    "data.loc[(data['Age'] > 40) & (data['Age'] <= 66), 'Age'] = 6\n",
    "data.loc[ data['Age'] > 66, 'Age'] = 7"
   ]
  },
  {
   "cell_type": "code",
   "execution_count": 67,
   "metadata": {},
   "outputs": [
    {
     "data": {
      "text/plain": [
       "4    303\n",
       "6    141\n",
       "3    106\n",
       "5    103\n",
       "2     92\n",
       "1     71\n",
       "0     68\n",
       "7      7\n",
       "Name: Age, dtype: int64"
      ]
     },
     "execution_count": 67,
     "metadata": {},
     "output_type": "execute_result"
    }
   ],
   "source": [
    "# Let's check the distribution\n",
    "data['Age'].value_counts()"
   ]
  },
  {
   "cell_type": "markdown",
   "metadata": {},
   "source": [
    "Finally, we have a last look at our data before getting started with ML:"
   ]
  },
  {
   "cell_type": "code",
   "execution_count": 68,
   "metadata": {},
   "outputs": [
    {
     "data": {
      "text/html": [
       "<div>\n",
       "<style>\n",
       "    .dataframe thead tr:only-child th {\n",
       "        text-align: right;\n",
       "    }\n",
       "\n",
       "    .dataframe thead th {\n",
       "        text-align: left;\n",
       "    }\n",
       "\n",
       "    .dataframe tbody tr th {\n",
       "        vertical-align: top;\n",
       "    }\n",
       "</style>\n",
       "<table border=\"1\" class=\"dataframe\">\n",
       "  <thead>\n",
       "    <tr style=\"text-align: right;\">\n",
       "      <th></th>\n",
       "      <th>Survived</th>\n",
       "      <th>Pclass</th>\n",
       "      <th>Sex</th>\n",
       "      <th>Age</th>\n",
       "      <th>Embarked</th>\n",
       "    </tr>\n",
       "  </thead>\n",
       "  <tbody>\n",
       "    <tr>\n",
       "      <th>0</th>\n",
       "      <td>0</td>\n",
       "      <td>3</td>\n",
       "      <td>0</td>\n",
       "      <td>2</td>\n",
       "      <td>0</td>\n",
       "    </tr>\n",
       "    <tr>\n",
       "      <th>1</th>\n",
       "      <td>1</td>\n",
       "      <td>1</td>\n",
       "      <td>1</td>\n",
       "      <td>5</td>\n",
       "      <td>1</td>\n",
       "    </tr>\n",
       "    <tr>\n",
       "      <th>2</th>\n",
       "      <td>1</td>\n",
       "      <td>3</td>\n",
       "      <td>1</td>\n",
       "      <td>3</td>\n",
       "      <td>0</td>\n",
       "    </tr>\n",
       "    <tr>\n",
       "      <th>3</th>\n",
       "      <td>1</td>\n",
       "      <td>1</td>\n",
       "      <td>1</td>\n",
       "      <td>5</td>\n",
       "      <td>0</td>\n",
       "    </tr>\n",
       "    <tr>\n",
       "      <th>4</th>\n",
       "      <td>0</td>\n",
       "      <td>3</td>\n",
       "      <td>0</td>\n",
       "      <td>5</td>\n",
       "      <td>0</td>\n",
       "    </tr>\n",
       "    <tr>\n",
       "      <th>5</th>\n",
       "      <td>0</td>\n",
       "      <td>3</td>\n",
       "      <td>0</td>\n",
       "      <td>4</td>\n",
       "      <td>2</td>\n",
       "    </tr>\n",
       "    <tr>\n",
       "      <th>6</th>\n",
       "      <td>0</td>\n",
       "      <td>1</td>\n",
       "      <td>0</td>\n",
       "      <td>6</td>\n",
       "      <td>0</td>\n",
       "    </tr>\n",
       "    <tr>\n",
       "      <th>7</th>\n",
       "      <td>0</td>\n",
       "      <td>3</td>\n",
       "      <td>0</td>\n",
       "      <td>0</td>\n",
       "      <td>0</td>\n",
       "    </tr>\n",
       "    <tr>\n",
       "      <th>8</th>\n",
       "      <td>1</td>\n",
       "      <td>3</td>\n",
       "      <td>1</td>\n",
       "      <td>3</td>\n",
       "      <td>0</td>\n",
       "    </tr>\n",
       "    <tr>\n",
       "      <th>9</th>\n",
       "      <td>1</td>\n",
       "      <td>2</td>\n",
       "      <td>1</td>\n",
       "      <td>1</td>\n",
       "      <td>1</td>\n",
       "    </tr>\n",
       "  </tbody>\n",
       "</table>\n",
       "</div>"
      ],
      "text/plain": [
       "   Survived  Pclass  Sex  Age  Embarked\n",
       "0         0       3    0    2         0\n",
       "1         1       1    1    5         1\n",
       "2         1       3    1    3         0\n",
       "3         1       1    1    5         0\n",
       "4         0       3    0    5         0\n",
       "5         0       3    0    4         2\n",
       "6         0       1    0    6         0\n",
       "7         0       3    0    0         0\n",
       "8         1       3    1    3         0\n",
       "9         1       2    1    1         1"
      ]
     },
     "execution_count": 68,
     "metadata": {},
     "output_type": "execute_result"
    }
   ],
   "source": [
    "data.head(10)"
   ]
  },
  {
   "cell_type": "markdown",
   "metadata": {},
   "source": [
    "## Split into Train and Test\n",
    "\n",
    "Now we want to split the data into train and test data. There are many ways and methods to split the data. We will simply use a test size of 10 % of the data. Feel free to try other split methods!"
   ]
  },
  {
   "cell_type": "code",
   "execution_count": 83,
   "metadata": {},
   "outputs": [],
   "source": [
    "# We have to separate the target column first:\n",
    "X = data.drop(\"Survived\", axis=1)\n",
    "y = data[\"Survived\"]\n",
    "\n",
    "# And split the data:\n",
    "X_train, X_test, y_train, y_test = train_test_split(X, y, test_size=0.1)"
   ]
  },
  {
   "cell_type": "markdown",
   "metadata": {},
   "source": [
    "## ML models\n",
    "\n",
    "Below we are going to apply different machine learning models and see which one works best."
   ]
  },
  {
   "cell_type": "markdown",
   "metadata": {},
   "source": [
    "### Logistic Regression"
   ]
  },
  {
   "cell_type": "code",
   "execution_count": 84,
   "metadata": {},
   "outputs": [
    {
     "data": {
      "text/plain": [
       "array([0, 0, 0, 1, 0, 1, 0, 1, 1, 1, 0, 1, 0, 0, 1, 0, 1, 0, 0, 1, 1, 0, 1,\n",
       "       0, 1, 1, 0, 1, 0, 1, 0, 1, 1, 0, 1, 0, 1, 0, 0, 0, 1, 0, 0, 0, 0, 0,\n",
       "       0, 0, 1, 0, 1, 1, 0, 1, 0, 1, 0, 0, 0, 0, 1, 0, 0, 0, 0, 0, 0, 0, 0,\n",
       "       0, 1, 0, 1, 1, 1, 1, 1, 0, 0, 1, 0, 1, 1, 0, 0, 0, 0, 1, 0, 0])"
      ]
     },
     "execution_count": 84,
     "metadata": {},
     "output_type": "execute_result"
    }
   ],
   "source": [
    "# we call the function logistic regression from scikit-learn,\n",
    "logreg = LogisticRegression()\n",
    "# train the model with fit,\n",
    "logreg.fit(X_train, y_train)\n",
    "# and make the predictions for the test data with predict.\n",
    "y_pred_logreg = logreg.predict(X_test)\n",
    "# the results look like this:\n",
    "y_pred_logreg"
   ]
  },
  {
   "cell_type": "markdown",
   "metadata": {},
   "source": [
    "Now, how can we evaluate the results? Of course, we need to compare our predictions to the actual correct values in y_test.\n",
    "\n",
    "A confusion matrix is a table that is often used to describe the performance of a classification model. It is also the basis to compute further rates such as precision, recall, and f1-score. The confusion matrix consists of True Positives, True Negatives, False Positives, and False Negatives."
   ]
  },
  {
   "cell_type": "code",
   "execution_count": 86,
   "metadata": {
    "scrolled": true
   },
   "outputs": [
    {
     "name": "stdout",
     "output_type": "stream",
     "text": [
      "tp: 23\n",
      "fp: 13\n",
      "fn: 16\n",
      "tn: 38\n"
     ]
    }
   ],
   "source": [
    "#Confusion Matrix: \n",
    "\n",
    "tp = 0\n",
    "fp = 0\n",
    "fn = 0\n",
    "tn = 0\n",
    "\n",
    "#the true values:\n",
    "y_real = np.array(y_test)\n",
    "\n",
    "for i in range(len(y_pred_logreg)):\n",
    "    \n",
    "    if y_pred_logreg[i] == 1 and  y_real[i] == 1:\n",
    "        tp += 1\n",
    "    if y_pred_logreg[i] == 0 and  y_real[i] == 0:\n",
    "        tn += 1\n",
    "    if y_pred_logreg[i] == 1 and  y_real[i] == 0:\n",
    "        fp += 1\n",
    "    if y_pred_logreg[i] == 0 and  y_real[i] == 1:\n",
    "        fn += 1\n",
    "        \n",
    "print(\"tp:\", tp)\n",
    "print(\"fp:\", fp)\n",
    "print(\"fn:\", fn)\n",
    "print(\"tn:\", tn)"
   ]
  },
  {
   "cell_type": "markdown",
   "metadata": {},
   "source": [
    "* tp = True Positives shows how many passengers correctly classified as survived.\n",
    "* tn = True Negatives shows how many passengers correctly classified as dead.\n",
    "* fn = False Negatives shows how many passengers wrongly classified as dead.\n",
    "* fp = False Positives shows how many passengers wrongly classified as survived."
   ]
  },
  {
   "cell_type": "code",
   "execution_count": 87,
   "metadata": {
    "scrolled": true
   },
   "outputs": [
    {
     "name": "stdout",
     "output_type": "stream",
     "text": [
      "precision: 0.6388888888888888\n",
      "recall: 0.5897435897435898\n",
      "f1: 0.6133333333333332\n"
     ]
    }
   ],
   "source": [
    "# Calculate precision, recall, and f1\n",
    "precision = tp / (tp + fp)\n",
    "recall = tp/ (tp + fn)\n",
    "f1 = (2 * precision * recall) / (precision + recall)\n",
    "\n",
    "print('precision:', precision)\n",
    "print('recall:', recall)\n",
    "print('f1:', f1)"
   ]
  },
  {
   "cell_type": "markdown",
   "metadata": {},
   "source": [
    "The higher precision, recall, and f1 are (the closer to 1), the better are our predictions.\n",
    "\n",
    "Also, we can simply use the functions provided in scikit-learn to calculate precision, recall, and f1:"
   ]
  },
  {
   "cell_type": "code",
   "execution_count": 88,
   "metadata": {},
   "outputs": [
    {
     "name": "stdout",
     "output_type": "stream",
     "text": [
      "precision: 0.638888888889\n",
      "recall: 0.589743589744\n",
      "f1: 0.613333333333\n"
     ]
    }
   ],
   "source": [
    "# or use sklearn:\n",
    "from sklearn.metrics import precision_score\n",
    "from sklearn.metrics import recall_score\n",
    "from sklearn.metrics import f1_score\n",
    "\n",
    "print('precision:', precision_score(y_test, y_pred_logreg))\n",
    "print('recall:', recall_score(y_test, y_pred_logreg))\n",
    "print('f1:', f1_score(y_test, y_pred_logreg))"
   ]
  },
  {
   "cell_type": "markdown",
   "metadata": {},
   "source": [
    "Another accuracy measurement is the function `score`, which returns the mean accuracy on the given test data and labels."
   ]
  },
  {
   "cell_type": "code",
   "execution_count": 89,
   "metadata": {},
   "outputs": [
    {
     "name": "stdout",
     "output_type": "stream",
     "text": [
      "score 0.677777777778\n"
     ]
    }
   ],
   "source": [
    "score_logreg = logreg.score(X_test, y_test)\n",
    "print('score', score_logreg)"
   ]
  },
  {
   "cell_type": "markdown",
   "metadata": {},
   "source": [
    "### K Nearest Neighbor (KNN)"
   ]
  },
  {
   "cell_type": "code",
   "execution_count": 90,
   "metadata": {},
   "outputs": [
    {
     "name": "stdout",
     "output_type": "stream",
     "text": [
      "score 0.688888888889\n",
      "precision: 0.612244897959\n",
      "recall: 0.769230769231\n",
      "f1: 0.681818181818\n"
     ]
    }
   ],
   "source": [
    "knn = KNeighborsClassifier(n_neighbors = 3) \n",
    "knn.fit(X_train, y_train)  \n",
    "y_pred_knn = knn.predict(X_test)  \n",
    "\n",
    "score_knn = knn.score(X_test, y_test)\n",
    "print('score', score_knn)\n",
    "\n",
    "print('precision:', precision_score(y_test, y_pred_knn))\n",
    "print('recall:', recall_score(y_test, y_pred_knn))\n",
    "print('f1:', f1_score(y_test, y_pred_knn))"
   ]
  },
  {
   "cell_type": "markdown",
   "metadata": {},
   "source": [
    "### Stochastic Gradient Descent (SGD)"
   ]
  },
  {
   "cell_type": "code",
   "execution_count": 91,
   "metadata": {},
   "outputs": [
    {
     "name": "stdout",
     "output_type": "stream",
     "text": [
      "score 0.566666666667\n",
      "precision: 0.5\n",
      "recall: 0.948717948718\n",
      "f1: 0.654867256637\n"
     ]
    }
   ],
   "source": [
    "sgd = SGDClassifier(loss='modified_huber', max_iter=5, tol=None)\n",
    "sgd.fit(X_train, y_train)\n",
    "y_pred_sgd = sgd.predict(X_test)\n",
    "\n",
    "score_sgd = sgd.score(X_test, y_test)\n",
    "print('score', score_sgd)\n",
    "\n",
    "print('precision:', precision_score(y_test, y_pred_sgd))\n",
    "print('recall:', recall_score(y_test, y_pred_sgd))\n",
    "print('f1:', f1_score(y_test, y_pred_sgd))"
   ]
  },
  {
   "cell_type": "markdown",
   "metadata": {},
   "source": [
    "### Random Forest"
   ]
  },
  {
   "cell_type": "code",
   "execution_count": 92,
   "metadata": {},
   "outputs": [
    {
     "name": "stdout",
     "output_type": "stream",
     "text": [
      "score 0.777777777778\n",
      "precision: 0.74358974359\n",
      "recall: 0.74358974359\n",
      "f1: 0.74358974359\n"
     ]
    }
   ],
   "source": [
    "random_forest = RandomForestClassifier(n_estimators=100)\n",
    "random_forest.fit(X_train, y_train)\n",
    "\n",
    "y_pred_rf = random_forest.predict(X_test)\n",
    "\n",
    "score_rf = random_forest.score(X_test, y_test)\n",
    "print('score', score_rf)\n",
    "\n",
    "print('precision:', precision_score(y_test, y_pred_rf))\n",
    "print('recall:', recall_score(y_test, y_pred_rf))\n",
    "print('f1:', f1_score(y_test, y_pred_rf))"
   ]
  },
  {
   "cell_type": "markdown",
   "metadata": {},
   "source": [
    "### Decision Tree"
   ]
  },
  {
   "cell_type": "code",
   "execution_count": 93,
   "metadata": {},
   "outputs": [
    {
     "name": "stdout",
     "output_type": "stream",
     "text": [
      "score 0.755555555556\n",
      "precision: 0.72972972973\n",
      "recall: 0.692307692308\n",
      "f1: 0.710526315789\n"
     ]
    }
   ],
   "source": [
    "decision_tree = DecisionTreeClassifier() \n",
    "decision_tree.fit(X_train, y_train)  \n",
    "y_pred_dt = decision_tree.predict(X_test)  \n",
    "\n",
    "score_dt= decision_tree.score(X_test, y_test)\n",
    "print('score', score_dt)\n",
    "\n",
    "print('precision:', precision_score(y_test, y_pred_dt))\n",
    "print('recall:', recall_score(y_test, y_pred_dt))\n",
    "print('f1:', f1_score(y_test, y_pred_dt))"
   ]
  },
  {
   "cell_type": "markdown",
   "metadata": {},
   "source": [
    "### Support Vector Machine"
   ]
  },
  {
   "cell_type": "code",
   "execution_count": 94,
   "metadata": {},
   "outputs": [
    {
     "name": "stdout",
     "output_type": "stream",
     "text": [
      "score 0.788888888889\n",
      "precision: 0.777777777778\n",
      "recall: 0.717948717949\n",
      "f1: 0.746666666667\n"
     ]
    }
   ],
   "source": [
    "svc = SVC(probability=True)\n",
    "svc.fit(X_train, y_train)\n",
    "y_pred_svc = svc.predict(X_test)\n",
    "\n",
    "score_svc = svc.score(X_test, y_test)\n",
    "print('score', score_svc)\n",
    "\n",
    "print('precision:', precision_score(y_test, y_pred_svc))\n",
    "print('recall:', recall_score(y_test, y_pred_svc))\n",
    "print('f1:', f1_score(y_test, y_pred_svc))"
   ]
  },
  {
   "cell_type": "markdown",
   "metadata": {},
   "source": [
    "### Perceptron"
   ]
  },
  {
   "cell_type": "code",
   "execution_count": 95,
   "metadata": {},
   "outputs": [
    {
     "name": "stdout",
     "output_type": "stream",
     "text": [
      "score 0.433333333333\n",
      "precision: 0.433333333333\n",
      "recall: 1.0\n",
      "f1: 0.604651162791\n"
     ]
    }
   ],
   "source": [
    "perceptron = Perceptron(max_iter=5)\n",
    "perceptron.fit(X_train, y_train)\n",
    "\n",
    "y_pred_p = perceptron.predict(X_test)\n",
    "\n",
    "score_p = perceptron.score(X_test, y_test)\n",
    "print('score', score_p)\n",
    "\n",
    "print('precision:', precision_score(y_test, y_pred_p))\n",
    "print('recall:', recall_score(y_test, y_pred_p))\n",
    "print('f1:', f1_score(y_test, y_pred_p))"
   ]
  },
  {
   "cell_type": "markdown",
   "metadata": {},
   "source": [
    "### Gaussian Naive Bayes"
   ]
  },
  {
   "cell_type": "code",
   "execution_count": 96,
   "metadata": {},
   "outputs": [
    {
     "name": "stdout",
     "output_type": "stream",
     "text": [
      "score 0.644444444444\n",
      "precision: 0.594594594595\n",
      "recall: 0.564102564103\n",
      "f1: 0.578947368421\n"
     ]
    }
   ],
   "source": [
    "gaussian = GaussianNB()\n",
    "gaussian.fit(X_train, y_train)\n",
    "y_pred_gnb = gaussian.predict(X_test)\n",
    "\n",
    "score_gnb = gaussian.score(X_test, y_test)\n",
    "print('score', score_gnb)\n",
    "\n",
    "print('precision:', precision_score(y_test, y_pred_gnb))\n",
    "print('recall:', recall_score(y_test, y_pred_gnb))\n",
    "print('f1:', f1_score(y_test, y_pred_gnb))"
   ]
  },
  {
   "cell_type": "markdown",
   "metadata": {},
   "source": [
    "## ROC Curve\n",
    "\n",
    "\n",
    "The ROC Curve is a useful to compare and evaluate different machine learning models. It shows how any predictive model can distinguish between the true positives and negatives. The ROC curve is created by plotting the true positive rate (TPR) against the false positive rate (FPR) at various threshold settings. The further the curve is from the diagonal line, the better the model is at discriminating between positives and negatives in general."
   ]
  },
  {
   "cell_type": "code",
   "execution_count": 97,
   "metadata": {
    "scrolled": true
   },
   "outputs": [
    {
     "data": {
      "image/png": "[encoded data removed]",
      "text/plain": [
       "<matplotlib.figure.Figure at 0x118b0aeb8>"
      ]
     },
     "metadata": {},
     "output_type": "display_data"
    }
   ],
   "source": [
    "from sklearn.metrics import roc_curve\n",
    "\n",
    "#Logistic Regression\n",
    "pos_probs_logreg = logreg.predict_proba(X_test)[:, 1]\n",
    "fpr_logreg, tpr_logreg, _ = roc_curve(y_test, pos_probs_logreg)\n",
    "plt.plot(fpr_logreg, tpr_logreg, marker='.', label='Logistic Regression')\n",
    "\n",
    "#Gaussian Naive Bayes\n",
    "pos_probs_gnb = gaussian.predict_proba(X_test)[:, 1]\n",
    "fpr_gnb, tpr_gnb, _ = roc_curve(y_test, pos_probs_gnb)\n",
    "plt.plot(fpr_gnb, tpr_gnb, marker='.', label='Gaussian Naive Bayes')\n",
    "\n",
    "# Random Forest\n",
    "pos_probs_rf = random_forest.predict_proba(X_test)[:, 1]\n",
    "fpr_rf, tpr_rf, _ = roc_curve(y_test, pos_probs_rf)\n",
    "plt.plot(fpr_rf, tpr_rf, marker='.', label='Random Forest')\n",
    "\n",
    "# Decision Tree Classifier\n",
    "pos_probs_dt = decision_tree.predict_proba(X_test)[:, 1]\n",
    "fpr_dt, tpr_dt, _ = roc_curve(y_test, pos_probs_dt)\n",
    "plt.plot(fpr_dt, tpr_dt, marker='.', label='Decision Tree')\n",
    "\n",
    "# K Nearest Neighbor\n",
    "pos_probs_knn = knn.predict_proba(X_test)[:, 1]\n",
    "fpr_knn, tpr_knn, _ = roc_curve(y_test, pos_probs_knn)\n",
    "plt.plot(fpr_knn, tpr_knn, marker='.', label='K Nearest Neighbor')\n",
    "\n",
    "# Support Vector Machine\n",
    "pos_probs_svc = svc.predict_proba(X_test)[:, 1]\n",
    "fpr_svc, tpr_svc, _ = roc_curve(y_test, pos_probs_svc)\n",
    "plt.plot(fpr_svc, tpr_svc, marker='.', label='Support Vector Machine')\n",
    "\n",
    "# Stochastic Gradient Descent \n",
    "pos_probs_sgd = sgd.predict_proba(X_test)[:, 1]\n",
    "fpr_sgd, tpr_sgd, _ = roc_curve(y_test, pos_probs_sgd)\n",
    "plt.plot(fpr_sgd, tpr_sgd, marker='.', label='Stochastic Gradient Descent')\n",
    "\n",
    "# plot no skill roc curve\n",
    "plt.plot([0, 1], [0, 1], linestyle='--', label='No Skill')\n",
    "# axis labels\n",
    "plt.xlabel('False Positive Rate')\n",
    "plt.ylabel('True Positive Rate')\n",
    "# show the legend\n",
    "plt.legend()\n",
    "# show the plot\n",
    "plt.show()"
   ]
  },
  {
   "cell_type": "markdown",
   "metadata": {},
   "source": [
    "## Ideas for improvement?\n",
    "\n",
    "Now it is your turn! I am sure you already got some ideas on how to improve the estimations. If not, here are some hints:\n",
    "* include more features\n",
    "* create new features (e.g. combine features, extract titles from the names, ...)\n",
    "* compute different categories for the features\n",
    "* fill NaN values differently\n",
    "* tune the hyperparameters in the algorithms\n",
    "* use different models\n",
    "* use k-fold cross validation"
   ]
  }
 ],
 "metadata": {
  "kernelspec": {
   "display_name": "Python 3",
   "language": "python",
   "name": "python3"
  },
  "language_info": {
   "codemirror_mode": {
    "name": "ipython",
    "version": 3
   },
   "file_extension": ".py",
   "mimetype": "text/x-python",
   "name": "python",
   "nbconvert_exporter": "python",
   "pygments_lexer": "ipython3",
   "version": "3.6.9"
  }
 },
 "nbformat": 4,
 "nbformat_minor": 2
}
